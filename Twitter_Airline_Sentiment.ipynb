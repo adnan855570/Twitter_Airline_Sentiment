{
  "nbformat": 4,
  "nbformat_minor": 0,
  "metadata": {
    "colab": {
      "provenance": [],
      "authorship_tag": "ABX9TyNiFiP2qLgEmOT2Q8KYf1Qf",
      "include_colab_link": true
    },
    "kernelspec": {
      "name": "python3",
      "display_name": "Python 3"
    },
    "language_info": {
      "name": "python"
    },
    "widgets": {
      "application/vnd.jupyter.widget-state+json": {
        "ae997448418a4bae95ebc0fa501fccc1": {
          "model_module": "@jupyter-widgets/controls",
          "model_name": "HBoxModel",
          "model_module_version": "1.5.0",
          "state": {
            "_dom_classes": [],
            "_model_module": "@jupyter-widgets/controls",
            "_model_module_version": "1.5.0",
            "_model_name": "HBoxModel",
            "_view_count": null,
            "_view_module": "@jupyter-widgets/controls",
            "_view_module_version": "1.5.0",
            "_view_name": "HBoxView",
            "box_style": "",
            "children": [
              "IPY_MODEL_99f53643bd4a442faa0fb42768eb7ada",
              "IPY_MODEL_9bc8256bec844e959ac481b8d720e7c4",
              "IPY_MODEL_833588b708cc42f599912f203fe5a0a3"
            ],
            "layout": "IPY_MODEL_f1133539da2447e5a5e4124419ced986"
          }
        },
        "99f53643bd4a442faa0fb42768eb7ada": {
          "model_module": "@jupyter-widgets/controls",
          "model_name": "HTMLModel",
          "model_module_version": "1.5.0",
          "state": {
            "_dom_classes": [],
            "_model_module": "@jupyter-widgets/controls",
            "_model_module_version": "1.5.0",
            "_model_name": "HTMLModel",
            "_view_count": null,
            "_view_module": "@jupyter-widgets/controls",
            "_view_module_version": "1.5.0",
            "_view_name": "HTMLView",
            "description": "",
            "description_tooltip": null,
            "layout": "IPY_MODEL_f6957f32a69041e9b2aa79249492eb9f",
            "placeholder": "​",
            "style": "IPY_MODEL_b9c3647d568e4f6194df5fdce1bb8908",
            "value": "README.md: 100%"
          }
        },
        "9bc8256bec844e959ac481b8d720e7c4": {
          "model_module": "@jupyter-widgets/controls",
          "model_name": "FloatProgressModel",
          "model_module_version": "1.5.0",
          "state": {
            "_dom_classes": [],
            "_model_module": "@jupyter-widgets/controls",
            "_model_module_version": "1.5.0",
            "_model_name": "FloatProgressModel",
            "_view_count": null,
            "_view_module": "@jupyter-widgets/controls",
            "_view_module_version": "1.5.0",
            "_view_name": "ProgressView",
            "bar_style": "success",
            "description": "",
            "description_tooltip": null,
            "layout": "IPY_MODEL_182c9d7d458c49ab8a7cdd8bbfe27a98",
            "max": 3751,
            "min": 0,
            "orientation": "horizontal",
            "style": "IPY_MODEL_ec55a9d4273e435fb3de1b022f8934bc",
            "value": 3751
          }
        },
        "833588b708cc42f599912f203fe5a0a3": {
          "model_module": "@jupyter-widgets/controls",
          "model_name": "HTMLModel",
          "model_module_version": "1.5.0",
          "state": {
            "_dom_classes": [],
            "_model_module": "@jupyter-widgets/controls",
            "_model_module_version": "1.5.0",
            "_model_name": "HTMLModel",
            "_view_count": null,
            "_view_module": "@jupyter-widgets/controls",
            "_view_module_version": "1.5.0",
            "_view_name": "HTMLView",
            "description": "",
            "description_tooltip": null,
            "layout": "IPY_MODEL_955c456d29a14289a84d1ec5335e0cd2",
            "placeholder": "​",
            "style": "IPY_MODEL_630dac03b111493d8e6cf0b2dc46d598",
            "value": " 3.75k/3.75k [00:00&lt;00:00, 56.3kB/s]"
          }
        },
        "f1133539da2447e5a5e4124419ced986": {
          "model_module": "@jupyter-widgets/base",
          "model_name": "LayoutModel",
          "model_module_version": "1.2.0",
          "state": {
            "_model_module": "@jupyter-widgets/base",
            "_model_module_version": "1.2.0",
            "_model_name": "LayoutModel",
            "_view_count": null,
            "_view_module": "@jupyter-widgets/base",
            "_view_module_version": "1.2.0",
            "_view_name": "LayoutView",
            "align_content": null,
            "align_items": null,
            "align_self": null,
            "border": null,
            "bottom": null,
            "display": null,
            "flex": null,
            "flex_flow": null,
            "grid_area": null,
            "grid_auto_columns": null,
            "grid_auto_flow": null,
            "grid_auto_rows": null,
            "grid_column": null,
            "grid_gap": null,
            "grid_row": null,
            "grid_template_areas": null,
            "grid_template_columns": null,
            "grid_template_rows": null,
            "height": null,
            "justify_content": null,
            "justify_items": null,
            "left": null,
            "margin": null,
            "max_height": null,
            "max_width": null,
            "min_height": null,
            "min_width": null,
            "object_fit": null,
            "object_position": null,
            "order": null,
            "overflow": null,
            "overflow_x": null,
            "overflow_y": null,
            "padding": null,
            "right": null,
            "top": null,
            "visibility": null,
            "width": null
          }
        },
        "f6957f32a69041e9b2aa79249492eb9f": {
          "model_module": "@jupyter-widgets/base",
          "model_name": "LayoutModel",
          "model_module_version": "1.2.0",
          "state": {
            "_model_module": "@jupyter-widgets/base",
            "_model_module_version": "1.2.0",
            "_model_name": "LayoutModel",
            "_view_count": null,
            "_view_module": "@jupyter-widgets/base",
            "_view_module_version": "1.2.0",
            "_view_name": "LayoutView",
            "align_content": null,
            "align_items": null,
            "align_self": null,
            "border": null,
            "bottom": null,
            "display": null,
            "flex": null,
            "flex_flow": null,
            "grid_area": null,
            "grid_auto_columns": null,
            "grid_auto_flow": null,
            "grid_auto_rows": null,
            "grid_column": null,
            "grid_gap": null,
            "grid_row": null,
            "grid_template_areas": null,
            "grid_template_columns": null,
            "grid_template_rows": null,
            "height": null,
            "justify_content": null,
            "justify_items": null,
            "left": null,
            "margin": null,
            "max_height": null,
            "max_width": null,
            "min_height": null,
            "min_width": null,
            "object_fit": null,
            "object_position": null,
            "order": null,
            "overflow": null,
            "overflow_x": null,
            "overflow_y": null,
            "padding": null,
            "right": null,
            "top": null,
            "visibility": null,
            "width": null
          }
        },
        "b9c3647d568e4f6194df5fdce1bb8908": {
          "model_module": "@jupyter-widgets/controls",
          "model_name": "DescriptionStyleModel",
          "model_module_version": "1.5.0",
          "state": {
            "_model_module": "@jupyter-widgets/controls",
            "_model_module_version": "1.5.0",
            "_model_name": "DescriptionStyleModel",
            "_view_count": null,
            "_view_module": "@jupyter-widgets/base",
            "_view_module_version": "1.2.0",
            "_view_name": "StyleView",
            "description_width": ""
          }
        },
        "182c9d7d458c49ab8a7cdd8bbfe27a98": {
          "model_module": "@jupyter-widgets/base",
          "model_name": "LayoutModel",
          "model_module_version": "1.2.0",
          "state": {
            "_model_module": "@jupyter-widgets/base",
            "_model_module_version": "1.2.0",
            "_model_name": "LayoutModel",
            "_view_count": null,
            "_view_module": "@jupyter-widgets/base",
            "_view_module_version": "1.2.0",
            "_view_name": "LayoutView",
            "align_content": null,
            "align_items": null,
            "align_self": null,
            "border": null,
            "bottom": null,
            "display": null,
            "flex": null,
            "flex_flow": null,
            "grid_area": null,
            "grid_auto_columns": null,
            "grid_auto_flow": null,
            "grid_auto_rows": null,
            "grid_column": null,
            "grid_gap": null,
            "grid_row": null,
            "grid_template_areas": null,
            "grid_template_columns": null,
            "grid_template_rows": null,
            "height": null,
            "justify_content": null,
            "justify_items": null,
            "left": null,
            "margin": null,
            "max_height": null,
            "max_width": null,
            "min_height": null,
            "min_width": null,
            "object_fit": null,
            "object_position": null,
            "order": null,
            "overflow": null,
            "overflow_x": null,
            "overflow_y": null,
            "padding": null,
            "right": null,
            "top": null,
            "visibility": null,
            "width": null
          }
        },
        "ec55a9d4273e435fb3de1b022f8934bc": {
          "model_module": "@jupyter-widgets/controls",
          "model_name": "ProgressStyleModel",
          "model_module_version": "1.5.0",
          "state": {
            "_model_module": "@jupyter-widgets/controls",
            "_model_module_version": "1.5.0",
            "_model_name": "ProgressStyleModel",
            "_view_count": null,
            "_view_module": "@jupyter-widgets/base",
            "_view_module_version": "1.2.0",
            "_view_name": "StyleView",
            "bar_color": null,
            "description_width": ""
          }
        },
        "955c456d29a14289a84d1ec5335e0cd2": {
          "model_module": "@jupyter-widgets/base",
          "model_name": "LayoutModel",
          "model_module_version": "1.2.0",
          "state": {
            "_model_module": "@jupyter-widgets/base",
            "_model_module_version": "1.2.0",
            "_model_name": "LayoutModel",
            "_view_count": null,
            "_view_module": "@jupyter-widgets/base",
            "_view_module_version": "1.2.0",
            "_view_name": "LayoutView",
            "align_content": null,
            "align_items": null,
            "align_self": null,
            "border": null,
            "bottom": null,
            "display": null,
            "flex": null,
            "flex_flow": null,
            "grid_area": null,
            "grid_auto_columns": null,
            "grid_auto_flow": null,
            "grid_auto_rows": null,
            "grid_column": null,
            "grid_gap": null,
            "grid_row": null,
            "grid_template_areas": null,
            "grid_template_columns": null,
            "grid_template_rows": null,
            "height": null,
            "justify_content": null,
            "justify_items": null,
            "left": null,
            "margin": null,
            "max_height": null,
            "max_width": null,
            "min_height": null,
            "min_width": null,
            "object_fit": null,
            "object_position": null,
            "order": null,
            "overflow": null,
            "overflow_x": null,
            "overflow_y": null,
            "padding": null,
            "right": null,
            "top": null,
            "visibility": null,
            "width": null
          }
        },
        "630dac03b111493d8e6cf0b2dc46d598": {
          "model_module": "@jupyter-widgets/controls",
          "model_name": "DescriptionStyleModel",
          "model_module_version": "1.5.0",
          "state": {
            "_model_module": "@jupyter-widgets/controls",
            "_model_module_version": "1.5.0",
            "_model_name": "DescriptionStyleModel",
            "_view_count": null,
            "_view_module": "@jupyter-widgets/base",
            "_view_module_version": "1.2.0",
            "_view_name": "StyleView",
            "description_width": ""
          }
        },
        "d7f24c44495f435ead115f6123806ec7": {
          "model_module": "@jupyter-widgets/controls",
          "model_name": "HBoxModel",
          "model_module_version": "1.5.0",
          "state": {
            "_dom_classes": [],
            "_model_module": "@jupyter-widgets/controls",
            "_model_module_version": "1.5.0",
            "_model_name": "HBoxModel",
            "_view_count": null,
            "_view_module": "@jupyter-widgets/controls",
            "_view_module_version": "1.5.0",
            "_view_name": "HBoxView",
            "box_style": "",
            "children": [
              "IPY_MODEL_2b683f2b576249e5875821a613bef847",
              "IPY_MODEL_87e139e944fa46b3846b656e789a235a",
              "IPY_MODEL_aef441ac804a4eb5b786cf48f2522cac"
            ],
            "layout": "IPY_MODEL_0a9f86dad8184c9e83f533b829b3269f"
          }
        },
        "2b683f2b576249e5875821a613bef847": {
          "model_module": "@jupyter-widgets/controls",
          "model_name": "HTMLModel",
          "model_module_version": "1.5.0",
          "state": {
            "_dom_classes": [],
            "_model_module": "@jupyter-widgets/controls",
            "_model_module_version": "1.5.0",
            "_model_name": "HTMLModel",
            "_view_count": null,
            "_view_module": "@jupyter-widgets/controls",
            "_view_module_version": "1.5.0",
            "_view_name": "HTMLView",
            "description": "",
            "description_tooltip": null,
            "layout": "IPY_MODEL_10fa5c189973459e84ca802303597163",
            "placeholder": "​",
            "style": "IPY_MODEL_24eb53fd5e3643d0a927d022d0daef1c",
            "value": "Tweets.csv: 100%"
          }
        },
        "87e139e944fa46b3846b656e789a235a": {
          "model_module": "@jupyter-widgets/controls",
          "model_name": "FloatProgressModel",
          "model_module_version": "1.5.0",
          "state": {
            "_dom_classes": [],
            "_model_module": "@jupyter-widgets/controls",
            "_model_module_version": "1.5.0",
            "_model_name": "FloatProgressModel",
            "_view_count": null,
            "_view_module": "@jupyter-widgets/controls",
            "_view_module_version": "1.5.0",
            "_view_name": "ProgressView",
            "bar_style": "success",
            "description": "",
            "description_tooltip": null,
            "layout": "IPY_MODEL_b2ed00c6a8264468969c5423aa688bd4",
            "max": 3421431,
            "min": 0,
            "orientation": "horizontal",
            "style": "IPY_MODEL_70d41d47819948f88800f1e1f3ab8fa0",
            "value": 3421431
          }
        },
        "aef441ac804a4eb5b786cf48f2522cac": {
          "model_module": "@jupyter-widgets/controls",
          "model_name": "HTMLModel",
          "model_module_version": "1.5.0",
          "state": {
            "_dom_classes": [],
            "_model_module": "@jupyter-widgets/controls",
            "_model_module_version": "1.5.0",
            "_model_name": "HTMLModel",
            "_view_count": null,
            "_view_module": "@jupyter-widgets/controls",
            "_view_module_version": "1.5.0",
            "_view_name": "HTMLView",
            "description": "",
            "description_tooltip": null,
            "layout": "IPY_MODEL_e6a0c790f33b4aceb196e91d1bc76870",
            "placeholder": "​",
            "style": "IPY_MODEL_cb62da2f1f414d28b906a0e7b08be72d",
            "value": " 3.42M/3.42M [00:00&lt;00:00, 12.9MB/s]"
          }
        },
        "0a9f86dad8184c9e83f533b829b3269f": {
          "model_module": "@jupyter-widgets/base",
          "model_name": "LayoutModel",
          "model_module_version": "1.2.0",
          "state": {
            "_model_module": "@jupyter-widgets/base",
            "_model_module_version": "1.2.0",
            "_model_name": "LayoutModel",
            "_view_count": null,
            "_view_module": "@jupyter-widgets/base",
            "_view_module_version": "1.2.0",
            "_view_name": "LayoutView",
            "align_content": null,
            "align_items": null,
            "align_self": null,
            "border": null,
            "bottom": null,
            "display": null,
            "flex": null,
            "flex_flow": null,
            "grid_area": null,
            "grid_auto_columns": null,
            "grid_auto_flow": null,
            "grid_auto_rows": null,
            "grid_column": null,
            "grid_gap": null,
            "grid_row": null,
            "grid_template_areas": null,
            "grid_template_columns": null,
            "grid_template_rows": null,
            "height": null,
            "justify_content": null,
            "justify_items": null,
            "left": null,
            "margin": null,
            "max_height": null,
            "max_width": null,
            "min_height": null,
            "min_width": null,
            "object_fit": null,
            "object_position": null,
            "order": null,
            "overflow": null,
            "overflow_x": null,
            "overflow_y": null,
            "padding": null,
            "right": null,
            "top": null,
            "visibility": null,
            "width": null
          }
        },
        "10fa5c189973459e84ca802303597163": {
          "model_module": "@jupyter-widgets/base",
          "model_name": "LayoutModel",
          "model_module_version": "1.2.0",
          "state": {
            "_model_module": "@jupyter-widgets/base",
            "_model_module_version": "1.2.0",
            "_model_name": "LayoutModel",
            "_view_count": null,
            "_view_module": "@jupyter-widgets/base",
            "_view_module_version": "1.2.0",
            "_view_name": "LayoutView",
            "align_content": null,
            "align_items": null,
            "align_self": null,
            "border": null,
            "bottom": null,
            "display": null,
            "flex": null,
            "flex_flow": null,
            "grid_area": null,
            "grid_auto_columns": null,
            "grid_auto_flow": null,
            "grid_auto_rows": null,
            "grid_column": null,
            "grid_gap": null,
            "grid_row": null,
            "grid_template_areas": null,
            "grid_template_columns": null,
            "grid_template_rows": null,
            "height": null,
            "justify_content": null,
            "justify_items": null,
            "left": null,
            "margin": null,
            "max_height": null,
            "max_width": null,
            "min_height": null,
            "min_width": null,
            "object_fit": null,
            "object_position": null,
            "order": null,
            "overflow": null,
            "overflow_x": null,
            "overflow_y": null,
            "padding": null,
            "right": null,
            "top": null,
            "visibility": null,
            "width": null
          }
        },
        "24eb53fd5e3643d0a927d022d0daef1c": {
          "model_module": "@jupyter-widgets/controls",
          "model_name": "DescriptionStyleModel",
          "model_module_version": "1.5.0",
          "state": {
            "_model_module": "@jupyter-widgets/controls",
            "_model_module_version": "1.5.0",
            "_model_name": "DescriptionStyleModel",
            "_view_count": null,
            "_view_module": "@jupyter-widgets/base",
            "_view_module_version": "1.2.0",
            "_view_name": "StyleView",
            "description_width": ""
          }
        },
        "b2ed00c6a8264468969c5423aa688bd4": {
          "model_module": "@jupyter-widgets/base",
          "model_name": "LayoutModel",
          "model_module_version": "1.2.0",
          "state": {
            "_model_module": "@jupyter-widgets/base",
            "_model_module_version": "1.2.0",
            "_model_name": "LayoutModel",
            "_view_count": null,
            "_view_module": "@jupyter-widgets/base",
            "_view_module_version": "1.2.0",
            "_view_name": "LayoutView",
            "align_content": null,
            "align_items": null,
            "align_self": null,
            "border": null,
            "bottom": null,
            "display": null,
            "flex": null,
            "flex_flow": null,
            "grid_area": null,
            "grid_auto_columns": null,
            "grid_auto_flow": null,
            "grid_auto_rows": null,
            "grid_column": null,
            "grid_gap": null,
            "grid_row": null,
            "grid_template_areas": null,
            "grid_template_columns": null,
            "grid_template_rows": null,
            "height": null,
            "justify_content": null,
            "justify_items": null,
            "left": null,
            "margin": null,
            "max_height": null,
            "max_width": null,
            "min_height": null,
            "min_width": null,
            "object_fit": null,
            "object_position": null,
            "order": null,
            "overflow": null,
            "overflow_x": null,
            "overflow_y": null,
            "padding": null,
            "right": null,
            "top": null,
            "visibility": null,
            "width": null
          }
        },
        "70d41d47819948f88800f1e1f3ab8fa0": {
          "model_module": "@jupyter-widgets/controls",
          "model_name": "ProgressStyleModel",
          "model_module_version": "1.5.0",
          "state": {
            "_model_module": "@jupyter-widgets/controls",
            "_model_module_version": "1.5.0",
            "_model_name": "ProgressStyleModel",
            "_view_count": null,
            "_view_module": "@jupyter-widgets/base",
            "_view_module_version": "1.2.0",
            "_view_name": "StyleView",
            "bar_color": null,
            "description_width": ""
          }
        },
        "e6a0c790f33b4aceb196e91d1bc76870": {
          "model_module": "@jupyter-widgets/base",
          "model_name": "LayoutModel",
          "model_module_version": "1.2.0",
          "state": {
            "_model_module": "@jupyter-widgets/base",
            "_model_module_version": "1.2.0",
            "_model_name": "LayoutModel",
            "_view_count": null,
            "_view_module": "@jupyter-widgets/base",
            "_view_module_version": "1.2.0",
            "_view_name": "LayoutView",
            "align_content": null,
            "align_items": null,
            "align_self": null,
            "border": null,
            "bottom": null,
            "display": null,
            "flex": null,
            "flex_flow": null,
            "grid_area": null,
            "grid_auto_columns": null,
            "grid_auto_flow": null,
            "grid_auto_rows": null,
            "grid_column": null,
            "grid_gap": null,
            "grid_row": null,
            "grid_template_areas": null,
            "grid_template_columns": null,
            "grid_template_rows": null,
            "height": null,
            "justify_content": null,
            "justify_items": null,
            "left": null,
            "margin": null,
            "max_height": null,
            "max_width": null,
            "min_height": null,
            "min_width": null,
            "object_fit": null,
            "object_position": null,
            "order": null,
            "overflow": null,
            "overflow_x": null,
            "overflow_y": null,
            "padding": null,
            "right": null,
            "top": null,
            "visibility": null,
            "width": null
          }
        },
        "cb62da2f1f414d28b906a0e7b08be72d": {
          "model_module": "@jupyter-widgets/controls",
          "model_name": "DescriptionStyleModel",
          "model_module_version": "1.5.0",
          "state": {
            "_model_module": "@jupyter-widgets/controls",
            "_model_module_version": "1.5.0",
            "_model_name": "DescriptionStyleModel",
            "_view_count": null,
            "_view_module": "@jupyter-widgets/base",
            "_view_module_version": "1.2.0",
            "_view_name": "StyleView",
            "description_width": ""
          }
        },
        "2c12af3a29514df8b7a248879822413b": {
          "model_module": "@jupyter-widgets/controls",
          "model_name": "HBoxModel",
          "model_module_version": "1.5.0",
          "state": {
            "_dom_classes": [],
            "_model_module": "@jupyter-widgets/controls",
            "_model_module_version": "1.5.0",
            "_model_name": "HBoxModel",
            "_view_count": null,
            "_view_module": "@jupyter-widgets/controls",
            "_view_module_version": "1.5.0",
            "_view_name": "HBoxView",
            "box_style": "",
            "children": [
              "IPY_MODEL_5a70f6223c1048099d280610f3490137",
              "IPY_MODEL_d70bb64e997f48b18d7f72aac5b5bf74",
              "IPY_MODEL_91ac634b46f14c04ba92cbd1d40e85ce"
            ],
            "layout": "IPY_MODEL_0a55d615e012407ab3e24d49edbeb5cd"
          }
        },
        "5a70f6223c1048099d280610f3490137": {
          "model_module": "@jupyter-widgets/controls",
          "model_name": "HTMLModel",
          "model_module_version": "1.5.0",
          "state": {
            "_dom_classes": [],
            "_model_module": "@jupyter-widgets/controls",
            "_model_module_version": "1.5.0",
            "_model_name": "HTMLModel",
            "_view_count": null,
            "_view_module": "@jupyter-widgets/controls",
            "_view_module_version": "1.5.0",
            "_view_name": "HTMLView",
            "description": "",
            "description_tooltip": null,
            "layout": "IPY_MODEL_05d0a2ecfece4e488910bec8a61e6b1e",
            "placeholder": "​",
            "style": "IPY_MODEL_357a969886474f12807218bf97af070b",
            "value": "Generating train split: 100%"
          }
        },
        "d70bb64e997f48b18d7f72aac5b5bf74": {
          "model_module": "@jupyter-widgets/controls",
          "model_name": "FloatProgressModel",
          "model_module_version": "1.5.0",
          "state": {
            "_dom_classes": [],
            "_model_module": "@jupyter-widgets/controls",
            "_model_module_version": "1.5.0",
            "_model_name": "FloatProgressModel",
            "_view_count": null,
            "_view_module": "@jupyter-widgets/controls",
            "_view_module_version": "1.5.0",
            "_view_name": "ProgressView",
            "bar_style": "success",
            "description": "",
            "description_tooltip": null,
            "layout": "IPY_MODEL_53ebde17ff5240859c3c27d1fe974081",
            "max": 14640,
            "min": 0,
            "orientation": "horizontal",
            "style": "IPY_MODEL_75e7f903c5ef46149905b2703ce8eed8",
            "value": 14640
          }
        },
        "91ac634b46f14c04ba92cbd1d40e85ce": {
          "model_module": "@jupyter-widgets/controls",
          "model_name": "HTMLModel",
          "model_module_version": "1.5.0",
          "state": {
            "_dom_classes": [],
            "_model_module": "@jupyter-widgets/controls",
            "_model_module_version": "1.5.0",
            "_model_name": "HTMLModel",
            "_view_count": null,
            "_view_module": "@jupyter-widgets/controls",
            "_view_module_version": "1.5.0",
            "_view_name": "HTMLView",
            "description": "",
            "description_tooltip": null,
            "layout": "IPY_MODEL_87cfce60d37d4c4792ab120d391b9403",
            "placeholder": "​",
            "style": "IPY_MODEL_a6b55f0e7cc94a8f9b7e9e6ae48ef660",
            "value": " 14640/14640 [00:00&lt;00:00, 29558.55 examples/s]"
          }
        },
        "0a55d615e012407ab3e24d49edbeb5cd": {
          "model_module": "@jupyter-widgets/base",
          "model_name": "LayoutModel",
          "model_module_version": "1.2.0",
          "state": {
            "_model_module": "@jupyter-widgets/base",
            "_model_module_version": "1.2.0",
            "_model_name": "LayoutModel",
            "_view_count": null,
            "_view_module": "@jupyter-widgets/base",
            "_view_module_version": "1.2.0",
            "_view_name": "LayoutView",
            "align_content": null,
            "align_items": null,
            "align_self": null,
            "border": null,
            "bottom": null,
            "display": null,
            "flex": null,
            "flex_flow": null,
            "grid_area": null,
            "grid_auto_columns": null,
            "grid_auto_flow": null,
            "grid_auto_rows": null,
            "grid_column": null,
            "grid_gap": null,
            "grid_row": null,
            "grid_template_areas": null,
            "grid_template_columns": null,
            "grid_template_rows": null,
            "height": null,
            "justify_content": null,
            "justify_items": null,
            "left": null,
            "margin": null,
            "max_height": null,
            "max_width": null,
            "min_height": null,
            "min_width": null,
            "object_fit": null,
            "object_position": null,
            "order": null,
            "overflow": null,
            "overflow_x": null,
            "overflow_y": null,
            "padding": null,
            "right": null,
            "top": null,
            "visibility": null,
            "width": null
          }
        },
        "05d0a2ecfece4e488910bec8a61e6b1e": {
          "model_module": "@jupyter-widgets/base",
          "model_name": "LayoutModel",
          "model_module_version": "1.2.0",
          "state": {
            "_model_module": "@jupyter-widgets/base",
            "_model_module_version": "1.2.0",
            "_model_name": "LayoutModel",
            "_view_count": null,
            "_view_module": "@jupyter-widgets/base",
            "_view_module_version": "1.2.0",
            "_view_name": "LayoutView",
            "align_content": null,
            "align_items": null,
            "align_self": null,
            "border": null,
            "bottom": null,
            "display": null,
            "flex": null,
            "flex_flow": null,
            "grid_area": null,
            "grid_auto_columns": null,
            "grid_auto_flow": null,
            "grid_auto_rows": null,
            "grid_column": null,
            "grid_gap": null,
            "grid_row": null,
            "grid_template_areas": null,
            "grid_template_columns": null,
            "grid_template_rows": null,
            "height": null,
            "justify_content": null,
            "justify_items": null,
            "left": null,
            "margin": null,
            "max_height": null,
            "max_width": null,
            "min_height": null,
            "min_width": null,
            "object_fit": null,
            "object_position": null,
            "order": null,
            "overflow": null,
            "overflow_x": null,
            "overflow_y": null,
            "padding": null,
            "right": null,
            "top": null,
            "visibility": null,
            "width": null
          }
        },
        "357a969886474f12807218bf97af070b": {
          "model_module": "@jupyter-widgets/controls",
          "model_name": "DescriptionStyleModel",
          "model_module_version": "1.5.0",
          "state": {
            "_model_module": "@jupyter-widgets/controls",
            "_model_module_version": "1.5.0",
            "_model_name": "DescriptionStyleModel",
            "_view_count": null,
            "_view_module": "@jupyter-widgets/base",
            "_view_module_version": "1.2.0",
            "_view_name": "StyleView",
            "description_width": ""
          }
        },
        "53ebde17ff5240859c3c27d1fe974081": {
          "model_module": "@jupyter-widgets/base",
          "model_name": "LayoutModel",
          "model_module_version": "1.2.0",
          "state": {
            "_model_module": "@jupyter-widgets/base",
            "_model_module_version": "1.2.0",
            "_model_name": "LayoutModel",
            "_view_count": null,
            "_view_module": "@jupyter-widgets/base",
            "_view_module_version": "1.2.0",
            "_view_name": "LayoutView",
            "align_content": null,
            "align_items": null,
            "align_self": null,
            "border": null,
            "bottom": null,
            "display": null,
            "flex": null,
            "flex_flow": null,
            "grid_area": null,
            "grid_auto_columns": null,
            "grid_auto_flow": null,
            "grid_auto_rows": null,
            "grid_column": null,
            "grid_gap": null,
            "grid_row": null,
            "grid_template_areas": null,
            "grid_template_columns": null,
            "grid_template_rows": null,
            "height": null,
            "justify_content": null,
            "justify_items": null,
            "left": null,
            "margin": null,
            "max_height": null,
            "max_width": null,
            "min_height": null,
            "min_width": null,
            "object_fit": null,
            "object_position": null,
            "order": null,
            "overflow": null,
            "overflow_x": null,
            "overflow_y": null,
            "padding": null,
            "right": null,
            "top": null,
            "visibility": null,
            "width": null
          }
        },
        "75e7f903c5ef46149905b2703ce8eed8": {
          "model_module": "@jupyter-widgets/controls",
          "model_name": "ProgressStyleModel",
          "model_module_version": "1.5.0",
          "state": {
            "_model_module": "@jupyter-widgets/controls",
            "_model_module_version": "1.5.0",
            "_model_name": "ProgressStyleModel",
            "_view_count": null,
            "_view_module": "@jupyter-widgets/base",
            "_view_module_version": "1.2.0",
            "_view_name": "StyleView",
            "bar_color": null,
            "description_width": ""
          }
        },
        "87cfce60d37d4c4792ab120d391b9403": {
          "model_module": "@jupyter-widgets/base",
          "model_name": "LayoutModel",
          "model_module_version": "1.2.0",
          "state": {
            "_model_module": "@jupyter-widgets/base",
            "_model_module_version": "1.2.0",
            "_model_name": "LayoutModel",
            "_view_count": null,
            "_view_module": "@jupyter-widgets/base",
            "_view_module_version": "1.2.0",
            "_view_name": "LayoutView",
            "align_content": null,
            "align_items": null,
            "align_self": null,
            "border": null,
            "bottom": null,
            "display": null,
            "flex": null,
            "flex_flow": null,
            "grid_area": null,
            "grid_auto_columns": null,
            "grid_auto_flow": null,
            "grid_auto_rows": null,
            "grid_column": null,
            "grid_gap": null,
            "grid_row": null,
            "grid_template_areas": null,
            "grid_template_columns": null,
            "grid_template_rows": null,
            "height": null,
            "justify_content": null,
            "justify_items": null,
            "left": null,
            "margin": null,
            "max_height": null,
            "max_width": null,
            "min_height": null,
            "min_width": null,
            "object_fit": null,
            "object_position": null,
            "order": null,
            "overflow": null,
            "overflow_x": null,
            "overflow_y": null,
            "padding": null,
            "right": null,
            "top": null,
            "visibility": null,
            "width": null
          }
        },
        "a6b55f0e7cc94a8f9b7e9e6ae48ef660": {
          "model_module": "@jupyter-widgets/controls",
          "model_name": "DescriptionStyleModel",
          "model_module_version": "1.5.0",
          "state": {
            "_model_module": "@jupyter-widgets/controls",
            "_model_module_version": "1.5.0",
            "_model_name": "DescriptionStyleModel",
            "_view_count": null,
            "_view_module": "@jupyter-widgets/base",
            "_view_module_version": "1.2.0",
            "_view_name": "StyleView",
            "description_width": ""
          }
        }
      }
    }
  },
  "cells": [
    {
      "cell_type": "markdown",
      "metadata": {
        "id": "view-in-github",
        "colab_type": "text"
      },
      "source": [
        "<a href=\"https://colab.research.google.com/github/adnan855570/Twitter_Airline_Sentiment/blob/main/Twitter_Airline_Sentiment.ipynb\" target=\"_parent\"><img src=\"https://colab.research.google.com/assets/colab-badge.svg\" alt=\"Open In Colab\"/></a>"
      ]
    },
    {
      "cell_type": "markdown",
      "source": [
        "# Question 1: Sentiment Analysis Using Naive Bayes and MLP"
      ],
      "metadata": {
        "id": "zfkJJnGTVibX"
      }
    },
    {
      "cell_type": "markdown",
      "source": [
        "## Install and Import Required Libraries"
      ],
      "metadata": {
        "id": "MzXdc7d-VjfL"
      }
    },
    {
      "cell_type": "code",
      "execution_count": null,
      "metadata": {
        "colab": {
          "base_uri": "https://localhost:8080/"
        },
        "id": "zNJqB6cS-iG-",
        "outputId": "47cfed83-c0fe-4849-efd4-9b8a6104a4b5"
      },
      "outputs": [
        {
          "output_type": "stream",
          "name": "stdout",
          "text": [
            "\u001b[?25l   \u001b[90m━━━━━━━━━━━━━━━━━━━━━━━━━━━━━━━━━━━━━━━━\u001b[0m \u001b[32m0.0/491.2 kB\u001b[0m \u001b[31m?\u001b[0m eta \u001b[36m-:--:--\u001b[0m\r\u001b[2K   \u001b[91m━━━━━━━━━━━━━━━━━━━━━━━━━━━━━━━━━━━━━━━\u001b[0m\u001b[90m╺\u001b[0m \u001b[32m481.3/491.2 kB\u001b[0m \u001b[31m15.3 MB/s\u001b[0m eta \u001b[36m0:00:01\u001b[0m\r\u001b[2K   \u001b[90m━━━━━━━━━━━━━━━━━━━━━━━━━━━━━━━━━━━━━━━━\u001b[0m \u001b[32m491.2/491.2 kB\u001b[0m \u001b[31m7.6 MB/s\u001b[0m eta \u001b[36m0:00:00\u001b[0m\n",
            "\u001b[?25h\u001b[?25l   \u001b[90m━━━━━━━━━━━━━━━━━━━━━━━━━━━━━━━━━━━━━━━━\u001b[0m \u001b[32m0.0/116.3 kB\u001b[0m \u001b[31m?\u001b[0m eta \u001b[36m-:--:--\u001b[0m\r\u001b[2K   \u001b[90m━━━━━━━━━━━━━━━━━━━━━━━━━━━━━━━━━━━━━━━━\u001b[0m \u001b[32m116.3/116.3 kB\u001b[0m \u001b[31m5.0 MB/s\u001b[0m eta \u001b[36m0:00:00\u001b[0m\n",
            "\u001b[?25h\u001b[?25l   \u001b[90m━━━━━━━━━━━━━━━━━━━━━━━━━━━━━━━━━━━━━━━━\u001b[0m \u001b[32m0.0/183.9 kB\u001b[0m \u001b[31m?\u001b[0m eta \u001b[36m-:--:--\u001b[0m\r\u001b[2K   \u001b[90m━━━━━━━━━━━━━━━━━━━━━━━━━━━━━━━━━━━━━━━━\u001b[0m \u001b[32m183.9/183.9 kB\u001b[0m \u001b[31m6.7 MB/s\u001b[0m eta \u001b[36m0:00:00\u001b[0m\n",
            "\u001b[2K   \u001b[90m━━━━━━━━━━━━━━━━━━━━━━━━━━━━━━━━━━━━━━━━\u001b[0m \u001b[32m143.5/143.5 kB\u001b[0m \u001b[31m6.1 MB/s\u001b[0m eta \u001b[36m0:00:00\u001b[0m\n",
            "\u001b[2K   \u001b[90m━━━━━━━━━━━━━━━━━━━━━━━━━━━━━━━━━━━━━━━━\u001b[0m \u001b[32m194.8/194.8 kB\u001b[0m \u001b[31m8.2 MB/s\u001b[0m eta \u001b[36m0:00:00\u001b[0m\n",
            "\u001b[?25h\u001b[31mERROR: pip's dependency resolver does not currently take into account all the packages that are installed. This behaviour is the source of the following dependency conflicts.\n",
            "torch 2.6.0+cu124 requires nvidia-cublas-cu12==12.4.5.8; platform_system == \"Linux\" and platform_machine == \"x86_64\", but you have nvidia-cublas-cu12 12.5.3.2 which is incompatible.\n",
            "torch 2.6.0+cu124 requires nvidia-cuda-cupti-cu12==12.4.127; platform_system == \"Linux\" and platform_machine == \"x86_64\", but you have nvidia-cuda-cupti-cu12 12.5.82 which is incompatible.\n",
            "torch 2.6.0+cu124 requires nvidia-cuda-nvrtc-cu12==12.4.127; platform_system == \"Linux\" and platform_machine == \"x86_64\", but you have nvidia-cuda-nvrtc-cu12 12.5.82 which is incompatible.\n",
            "torch 2.6.0+cu124 requires nvidia-cuda-runtime-cu12==12.4.127; platform_system == \"Linux\" and platform_machine == \"x86_64\", but you have nvidia-cuda-runtime-cu12 12.5.82 which is incompatible.\n",
            "torch 2.6.0+cu124 requires nvidia-cudnn-cu12==9.1.0.70; platform_system == \"Linux\" and platform_machine == \"x86_64\", but you have nvidia-cudnn-cu12 9.3.0.75 which is incompatible.\n",
            "torch 2.6.0+cu124 requires nvidia-cufft-cu12==11.2.1.3; platform_system == \"Linux\" and platform_machine == \"x86_64\", but you have nvidia-cufft-cu12 11.2.3.61 which is incompatible.\n",
            "torch 2.6.0+cu124 requires nvidia-curand-cu12==10.3.5.147; platform_system == \"Linux\" and platform_machine == \"x86_64\", but you have nvidia-curand-cu12 10.3.6.82 which is incompatible.\n",
            "torch 2.6.0+cu124 requires nvidia-cusolver-cu12==11.6.1.9; platform_system == \"Linux\" and platform_machine == \"x86_64\", but you have nvidia-cusolver-cu12 11.6.3.83 which is incompatible.\n",
            "torch 2.6.0+cu124 requires nvidia-cusparse-cu12==12.3.1.170; platform_system == \"Linux\" and platform_machine == \"x86_64\", but you have nvidia-cusparse-cu12 12.5.1.3 which is incompatible.\n",
            "torch 2.6.0+cu124 requires nvidia-nvjitlink-cu12==12.4.127; platform_system == \"Linux\" and platform_machine == \"x86_64\", but you have nvidia-nvjitlink-cu12 12.5.82 which is incompatible.\n",
            "gcsfs 2025.3.0 requires fsspec==2025.3.0, but you have fsspec 2024.12.0 which is incompatible.\u001b[0m\u001b[31m\n",
            "\u001b[0m--2025-04-01 21:01:55--  http://nlp.stanford.edu/data/glove.6B.zip\n",
            "Resolving nlp.stanford.edu (nlp.stanford.edu)... 171.64.67.140\n",
            "Connecting to nlp.stanford.edu (nlp.stanford.edu)|171.64.67.140|:80... connected.\n",
            "HTTP request sent, awaiting response... 302 Found\n",
            "Location: https://nlp.stanford.edu/data/glove.6B.zip [following]\n",
            "--2025-04-01 21:01:55--  https://nlp.stanford.edu/data/glove.6B.zip\n",
            "Connecting to nlp.stanford.edu (nlp.stanford.edu)|171.64.67.140|:443... connected.\n",
            "HTTP request sent, awaiting response... 301 Moved Permanently\n",
            "Location: https://downloads.cs.stanford.edu/nlp/data/glove.6B.zip [following]\n",
            "--2025-04-01 21:01:55--  https://downloads.cs.stanford.edu/nlp/data/glove.6B.zip\n",
            "Resolving downloads.cs.stanford.edu (downloads.cs.stanford.edu)... 171.64.64.22\n",
            "Connecting to downloads.cs.stanford.edu (downloads.cs.stanford.edu)|171.64.64.22|:443... connected.\n",
            "HTTP request sent, awaiting response... 200 OK\n",
            "Length: 862182613 (822M) [application/zip]\n",
            "Saving to: ‘glove.6B.zip’\n",
            "\n",
            "glove.6B.zip        100%[===================>] 822.24M  5.00MB/s    in 2m 38s  \n",
            "\n",
            "2025-04-01 21:04:34 (5.19 MB/s) - ‘glove.6B.zip’ saved [862182613/862182613]\n",
            "\n"
          ]
        },
        {
          "output_type": "stream",
          "name": "stderr",
          "text": [
            "[nltk_data] Downloading package punkt to /root/nltk_data...\n",
            "[nltk_data]   Unzipping tokenizers/punkt.zip.\n",
            "[nltk_data] Downloading package punkt_tab to /root/nltk_data...\n",
            "[nltk_data]   Unzipping tokenizers/punkt_tab.zip.\n",
            "[nltk_data] Downloading package stopwords to /root/nltk_data...\n",
            "[nltk_data]   Unzipping corpora/stopwords.zip.\n",
            "[nltk_data] Downloading package wordnet to /root/nltk_data...\n",
            "[nltk_data] Downloading package omw-1.4 to /root/nltk_data...\n",
            "[nltk_data] Downloading package brown to /root/nltk_data...\n",
            "[nltk_data]   Unzipping corpora/brown.zip.\n",
            "[nltk_data] Downloading package averaged_perceptron_tagger to\n",
            "[nltk_data]     /root/nltk_data...\n",
            "[nltk_data]   Unzipping taggers/averaged_perceptron_tagger.zip.\n",
            "[nltk_data] Downloading package averaged_perceptron_tagger_eng to\n",
            "[nltk_data]     /root/nltk_data...\n",
            "[nltk_data]   Unzipping taggers/averaged_perceptron_tagger_eng.zip.\n"
          ]
        },
        {
          "output_type": "execute_result",
          "data": {
            "text/plain": [
              "True"
            ]
          },
          "metadata": {},
          "execution_count": 1
        }
      ],
      "source": [
        "# Install essential NLP and ML libraries silently to avoid cluttered output\n",
        "!pip install datasets scikit-learn nltk --quiet\n",
        "\n",
        "# Download pre-trained GloVe embeddings (6B tokens, 50D/100D/200D/300D vectors)\n",
        "!wget http://nlp.stanford.edu/data/glove.6B.zip\n",
        "\n",
        "# Unzip the downloaded GloVe file into current directory\n",
        "!unzip -q glove.6B.zip\n",
        "\n",
        "# Import essential Python libraries for data processing and modeling\n",
        "import pandas as pd                  # For DataFrame manipulation\n",
        "import numpy as np                   # For numerical operations\n",
        "import re                            # For regular expression-based cleaning\n",
        "import nltk                          # Natural Language Toolkit for text processing\n",
        "from tabulate import tabulate        # for making pretty tables\n",
        "\n",
        "# Hugging Face dataset loading\n",
        "from datasets import load_dataset    # To load the Twitter airline sentiment dataset\n",
        "\n",
        "# NLTK modules for preprocessing and POS tagging\n",
        "from nltk.corpus import stopwords, brown        # Stopwords and Brown corpus\n",
        "from nltk import word_tokenize, pos_tag         # Tokenizer and POS tagger\n",
        "from nltk.stem import WordNetLemmatizer          # Lemmatizer for word normalization\n",
        "\n",
        "# Scikit-learn modules for training and evaluation\n",
        "from sklearn.model_selection import train_test_split         # For splitting data into train/val/test\n",
        "from sklearn.feature_extraction.text import TfidfVectorizer  # To convert text to TF-IDF matrix\n",
        "from sklearn.naive_bayes import MultinomialNB                # Naive Bayes classifier\n",
        "from sklearn.neural_network import MLPClassifier             # Multilayer Perceptron (MLP) model\n",
        "from sklearn.metrics import classification_report, confusion_matrix  # For model evaluation\n",
        "from sklearn.utils import resample                           # For upsampling under-represented classes\n",
        "\n",
        "# Standard utilities\n",
        "from collections import Counter             # To count frequency of POS tags\n",
        "from sklearn.metrics.pairwise import cosine_similarity  # For GloVe cosine similarity\n",
        "import seaborn as sns                       # For confusion matrix heatmap visualization\n",
        "import matplotlib.pyplot as plt             # For plotting graphs\n",
        "\n",
        "# Download required resources from NLTK\n",
        "nltk.download('punkt')                      # Word tokenizer\n",
        "nltk.download('punkt_tab')                  # Optional internal tokenizer table (used in older versions)\n",
        "nltk.download('stopwords')                  # Common stopwords in English\n",
        "nltk.download('wordnet')                    # WordNet lexical database for lemmatization\n",
        "nltk.download('omw-1.4')                    # Open Multilingual WordNet - required by some lemmatizers\n",
        "nltk.download('brown')                      # Brown corpus - used for POS tagging analysis\n",
        "nltk.download('averaged_perceptron_tagger') # POS tagger model\n",
        "nltk.download('averaged_perceptron_tagger_eng') # Fixes certain environments with tagger issues\n"
      ]
    },
    {
      "cell_type": "markdown",
      "source": [
        "# Load Dataset and Preprocess"
      ],
      "metadata": {
        "id": "O3T2IOU1WDL2"
      }
    },
    {
      "cell_type": "code",
      "source": [
        "import pandas as pd\n",
        "from datasets import load_dataset\n",
        "\n",
        "# Load the Twitter Airline Sentiment dataset from Hugging Face Datasets\n",
        "data = load_dataset(\"osanseviero/twitter-airline-sentiment\")\n",
        "\n",
        "# Convert the 'train' portion of the dataset to a Pandas DataFrame for easier manipulation\n",
        "df = pd.DataFrame(data['train'])\n",
        "\n",
        "# Print the shape (rows, columns) of the initial dataset\n",
        "print(\"Initial Dataset Shape:\", df.shape)\n",
        "\n",
        "# Display the first 5 rows of selected columns to inspect the data\n",
        "original_preview = df[['text', 'airline_sentiment', 'airline_sentiment_confidence']].head()\n",
        "print(\"\\nOriginal Sample Tweets:\")\n",
        "print(original_preview.to_markdown())\n",
        "\n",
        "# --------------------------------------------------\n",
        "# DATA CLEANING (Confidence == 1.0 and Word Count >= 5)\n",
        "# --------------------------------------------------\n",
        "\n",
        "# Filter only high-confidence rows (confidence == 1.0)\n",
        "df = df[df['airline_sentiment_confidence'] == 1.0]\n",
        "print(\"Filtered by Confidence == 1.0:\", df.shape)\n",
        "\n",
        "# Add a column for word count\n",
        "df['word_count'] = df['text'].apply(lambda x: len(str(x).split()))\n",
        "\n",
        "# Filter tweets with at least 5 words\n",
        "df = df[df['word_count'] >= 5]\n",
        "print(\"Filtered by Word Count >= 5:\", df.shape)\n",
        "\n",
        "# Reset index and keep backup of original texts\n",
        "df = df.reset_index(drop=True)\n",
        "original_texts = df['text'].copy()\n",
        "\n",
        "# Display 10 cleaned tweets for comparison\n",
        "cleaned_preview = df[['text', 'airline_sentiment', 'airline_sentiment_confidence', 'word_count']].head(10)\n",
        "print(\"\\nCleaned Sample Tweets (Confidence == 1.0 and Word Count >= 5):\")\n",
        "print(cleaned_preview.to_markdown())\n",
        "\n"
      ],
      "metadata": {
        "colab": {
          "base_uri": "https://localhost:8080/",
          "height": 706,
          "referenced_widgets": [
            "ae997448418a4bae95ebc0fa501fccc1",
            "99f53643bd4a442faa0fb42768eb7ada",
            "9bc8256bec844e959ac481b8d720e7c4",
            "833588b708cc42f599912f203fe5a0a3",
            "f1133539da2447e5a5e4124419ced986",
            "f6957f32a69041e9b2aa79249492eb9f",
            "b9c3647d568e4f6194df5fdce1bb8908",
            "182c9d7d458c49ab8a7cdd8bbfe27a98",
            "ec55a9d4273e435fb3de1b022f8934bc",
            "955c456d29a14289a84d1ec5335e0cd2",
            "630dac03b111493d8e6cf0b2dc46d598",
            "d7f24c44495f435ead115f6123806ec7",
            "2b683f2b576249e5875821a613bef847",
            "87e139e944fa46b3846b656e789a235a",
            "aef441ac804a4eb5b786cf48f2522cac",
            "0a9f86dad8184c9e83f533b829b3269f",
            "10fa5c189973459e84ca802303597163",
            "24eb53fd5e3643d0a927d022d0daef1c",
            "b2ed00c6a8264468969c5423aa688bd4",
            "70d41d47819948f88800f1e1f3ab8fa0",
            "e6a0c790f33b4aceb196e91d1bc76870",
            "cb62da2f1f414d28b906a0e7b08be72d",
            "2c12af3a29514df8b7a248879822413b",
            "5a70f6223c1048099d280610f3490137",
            "d70bb64e997f48b18d7f72aac5b5bf74",
            "91ac634b46f14c04ba92cbd1d40e85ce",
            "0a55d615e012407ab3e24d49edbeb5cd",
            "05d0a2ecfece4e488910bec8a61e6b1e",
            "357a969886474f12807218bf97af070b",
            "53ebde17ff5240859c3c27d1fe974081",
            "75e7f903c5ef46149905b2703ce8eed8",
            "87cfce60d37d4c4792ab120d391b9403",
            "a6b55f0e7cc94a8f9b7e9e6ae48ef660"
          ]
        },
        "id": "vxNeykXeWMAJ",
        "outputId": "7fbefdd5-dde3-410a-93a8-043dc4ed3810"
      },
      "execution_count": null,
      "outputs": [
        {
          "output_type": "stream",
          "name": "stderr",
          "text": [
            "/usr/local/lib/python3.11/dist-packages/huggingface_hub/utils/_auth.py:94: UserWarning: \n",
            "The secret `HF_TOKEN` does not exist in your Colab secrets.\n",
            "To authenticate with the Hugging Face Hub, create a token in your settings tab (https://huggingface.co/settings/tokens), set it as secret in your Google Colab and restart your session.\n",
            "You will be able to reuse this secret in all of your notebooks.\n",
            "Please note that authentication is recommended but still optional to access public models or datasets.\n",
            "  warnings.warn(\n"
          ]
        },
        {
          "output_type": "display_data",
          "data": {
            "text/plain": [
              "README.md:   0%|          | 0.00/3.75k [00:00<?, ?B/s]"
            ],
            "application/vnd.jupyter.widget-view+json": {
              "version_major": 2,
              "version_minor": 0,
              "model_id": "ae997448418a4bae95ebc0fa501fccc1"
            }
          },
          "metadata": {}
        },
        {
          "output_type": "display_data",
          "data": {
            "text/plain": [
              "Tweets.csv:   0%|          | 0.00/3.42M [00:00<?, ?B/s]"
            ],
            "application/vnd.jupyter.widget-view+json": {
              "version_major": 2,
              "version_minor": 0,
              "model_id": "d7f24c44495f435ead115f6123806ec7"
            }
          },
          "metadata": {}
        },
        {
          "output_type": "display_data",
          "data": {
            "text/plain": [
              "Generating train split:   0%|          | 0/14640 [00:00<?, ? examples/s]"
            ],
            "application/vnd.jupyter.widget-view+json": {
              "version_major": 2,
              "version_minor": 0,
              "model_id": "2c12af3a29514df8b7a248879822413b"
            }
          },
          "metadata": {}
        },
        {
          "output_type": "stream",
          "name": "stdout",
          "text": [
            "Initial Dataset Shape: (14640, 15)\n",
            "\n",
            "Original Sample Tweets:\n",
            "|    | text                                                                                                                           | airline_sentiment   |   airline_sentiment_confidence |\n",
            "|---:|:-------------------------------------------------------------------------------------------------------------------------------|:--------------------|-------------------------------:|\n",
            "|  0 | @VirginAmerica What @dhepburn said.                                                                                            | neutral             |                         1      |\n",
            "|  1 | @VirginAmerica plus you've added commercials to the experience... tacky.                                                       | positive            |                         0.3486 |\n",
            "|  2 | @VirginAmerica I didn't today... Must mean I need to take another trip!                                                        | neutral             |                         0.6837 |\n",
            "|  3 | @VirginAmerica it's really aggressive to blast obnoxious \"entertainment\" in your guests' faces &amp; they have little recourse | negative            |                         1      |\n",
            "|  4 | @VirginAmerica and it's a really big bad thing about it                                                                        | negative            |                         1      |\n",
            "Filtered by Confidence == 1.0: (10445, 15)\n",
            "Filtered by Word Count >= 5: (10139, 16)\n",
            "\n",
            "Cleaned Sample Tweets (Confidence == 1.0 and Word Count >= 5):\n",
            "|    | text                                                                                                                                         | airline_sentiment   |   airline_sentiment_confidence |   word_count |\n",
            "|---:|:---------------------------------------------------------------------------------------------------------------------------------------------|:--------------------|-------------------------------:|-------------:|\n",
            "|  0 | @VirginAmerica it's really aggressive to blast obnoxious \"entertainment\" in your guests' faces &amp; they have little recourse               | negative            |                              1 |           17 |\n",
            "|  1 | @VirginAmerica and it's a really big bad thing about it                                                                                      | negative            |                              1 |           10 |\n",
            "|  2 | @VirginAmerica seriously would pay $30 a flight for seats that didn't have this playing.                                                     | negative            |                              1 |           23 |\n",
            "|    | it's really the only bad thing about flying VA                                                                                               |                     |                                |              |\n",
            "|  3 | @VirginAmerica it was amazing, and arrived an hour early. You're too good to me.                                                             | positive            |                              1 |           14 |\n",
            "|  4 | @VirginAmerica I &lt;3 pretty graphics. so much better than minimal iconography. :D                                                          | positive            |                              1 |           12 |\n",
            "|  5 | @VirginAmerica This is such a great deal! Already thinking about my 2nd trip to @Australia &amp; I haven't even gone on my 1st trip yet! ;p  | positive            |                              1 |           26 |\n",
            "|  6 | @VirginAmerica So excited for my first cross country flight LAX to MCO I've heard nothing but great things about Virgin America. #29DaysToGo | positive            |                              1 |           22 |\n",
            "|  7 | @VirginAmerica  I flew from NYC to SFO last week and couldn't fully sit in my seat due to two large gentleman on either side of me. HELP!    | negative            |                              1 |           27 |\n",
            "|  8 | I ❤️ flying @VirginAmerica. ☺️👍                                                                                                             | positive            |                              1 |            5 |\n",
            "|  9 | @VirginAmerica you know what would be amazingly awesome? BOS-FLL PLEASE!!!!!!! I want to fly with only you.                                  | positive            |                              1 |           17 |\n"
          ]
        }
      ]
    },
    {
      "cell_type": "markdown",
      "source": [
        "# Clean and Normalize Text"
      ],
      "metadata": {
        "id": "-uh9iPx0WPmV"
      }
    },
    {
      "cell_type": "code",
      "source": [
        "import re\n",
        "import nltk\n",
        "import pandas as pd\n",
        "from nltk.corpus import stopwords\n",
        "from nltk.tokenize import word_tokenize\n",
        "from nltk.stem import WordNetLemmatizer\n",
        "\n",
        "# Download required NLTK components\n",
        "nltk.download('punkt')\n",
        "nltk.download('stopwords')\n",
        "nltk.download('wordnet')\n",
        "\n",
        "# Load English stopwords\n",
        "stop_words = set(stopwords.words('english'))\n",
        "\n",
        "# Initialize the lemmatizer\n",
        "lemmatizer = WordNetLemmatizer()\n",
        "\n",
        "# Define text cleaning function\n",
        "def clean_text(text):\n",
        "    text = text.lower()\n",
        "    text = re.sub(r\"http\\S+|www\\S+|@\\w+|#\\w+\", \"\", text)  # Remove links, @mentions, #hashtags\n",
        "    text = re.sub(r\"[^a-z\\s]\", \"\", text)  # Remove punctuation, numbers, special chars\n",
        "    tokens = word_tokenize(text)\n",
        "    tokens = [lemmatizer.lemmatize(w) for w in tokens if w not in stop_words]\n",
        "    return \" \".join(tokens)\n",
        "\n",
        "# Apply cleaning\n",
        "df['cleaned_text'] = df['text'].apply(clean_text)\n",
        "\n",
        "# Display original and cleaned versions side-by-side for the first 5 tweets\n",
        "preview = df[['text', 'cleaned_text']].head(5)\n",
        "print(\"\\n Full Cleaned Tweets (Before & After Cleaning):\")\n",
        "print(preview.to_markdown(index=False))\n",
        "\n",
        "\n"
      ],
      "metadata": {
        "colab": {
          "base_uri": "https://localhost:8080/"
        },
        "id": "PHtW-wr2WRyS",
        "outputId": "d22d9053-05c5-46bb-9535-f57b38b9f2df"
      },
      "execution_count": null,
      "outputs": [
        {
          "output_type": "stream",
          "name": "stderr",
          "text": [
            "[nltk_data] Downloading package punkt to /root/nltk_data...\n",
            "[nltk_data]   Package punkt is already up-to-date!\n",
            "[nltk_data] Downloading package stopwords to /root/nltk_data...\n",
            "[nltk_data]   Package stopwords is already up-to-date!\n",
            "[nltk_data] Downloading package wordnet to /root/nltk_data...\n",
            "[nltk_data]   Package wordnet is already up-to-date!\n"
          ]
        },
        {
          "output_type": "stream",
          "name": "stdout",
          "text": [
            "\n",
            " Full Cleaned Tweets (Before & After Cleaning):\n",
            "| text                                                                                                                           | cleaned_text                                                                   |\n",
            "|:-------------------------------------------------------------------------------------------------------------------------------|:-------------------------------------------------------------------------------|\n",
            "| @VirginAmerica it's really aggressive to blast obnoxious \"entertainment\" in your guests' faces &amp; they have little recourse | really aggressive blast obnoxious entertainment guest face amp little recourse |\n",
            "| @VirginAmerica and it's a really big bad thing about it                                                                        | really big bad thing                                                           |\n",
            "| @VirginAmerica seriously would pay $30 a flight for seats that didn't have this playing.                                       | seriously would pay flight seat didnt playing really bad thing flying va       |\n",
            "| it's really the only bad thing about flying VA                                                                                 |                                                                                |\n",
            "| @VirginAmerica it was amazing, and arrived an hour early. You're too good to me.                                               | amazing arrived hour early youre good                                          |\n",
            "| @VirginAmerica I &lt;3 pretty graphics. so much better than minimal iconography. :D                                            | lt pretty graphic much better minimal iconography                              |\n"
          ]
        }
      ]
    },
    {
      "cell_type": "markdown",
      "source": [
        "# TF-IDF Vectorization and Dataset Splitting"
      ],
      "metadata": {
        "id": "kHThHxbAWTkj"
      }
    },
    {
      "cell_type": "code",
      "source": [
        "from sklearn.feature_extraction.text import TfidfVectorizer\n",
        "from sklearn.model_selection import train_test_split\n",
        "from tabulate import tabulate\n",
        "\n",
        "# Initialize the TF-IDF vectorizer (top 4000 most important tokens)\n",
        "vectorizer = TfidfVectorizer(max_features=4000)\n",
        "\n",
        "# Apply vectorization to the cleaned tweet text\n",
        "X = vectorizer.fit_transform(df['cleaned_text'])\n",
        "\n",
        "# Map sentiment labels to numerical values\n",
        "label_map = {'negative': 0, 'neutral': 1, 'positive': 2}\n",
        "y = df['airline_sentiment'].map(label_map)\n",
        "\n",
        "# Split data into Train (80%) and Temp (20%)\n",
        "X_train, X_temp, y_train, y_temp = train_test_split(X, y, test_size=0.2, stratify=y, random_state=10)\n",
        "\n",
        "# Split Temp into Validation (10%) and Test (10%)\n",
        "X_val, X_test, y_val, y_test = train_test_split(X_temp, y_temp, test_size=0.5, random_state=10)\n",
        "\n",
        "# Confirm dataset shapes\n",
        "print(f\"\\ Dataset Shapes:\")\n",
        "print(f\"Train Shape: {X_train.shape}, Validation Shape: {X_val.shape}, Test Shape: {X_test.shape}\")\n",
        "\n",
        "# Preview TF-IDF feature vectors of the first 10 cleaned tweets\n",
        "print(\"\\n First 10 Cleaned Tweets with Corresponding TF-IDF Vectors:\")\n",
        "tfidf_sample_texts = df['cleaned_text'].head(10).tolist()\n",
        "tfidf_sample_vectors = vectorizer.transform(tfidf_sample_texts).toarray()\n",
        "\n",
        "# Print in tabular format for readability\n",
        "for i, (text, vec) in enumerate(zip(tfidf_sample_texts, tfidf_sample_vectors), 1):\n",
        "    print(f\"\\nTweet {i}:\")\n",
        "    print(f\"Cleaned Text: {text}\")\n",
        "    print(f\"TF-IDF Vector: {vec}\\n\")\n",
        "\n",
        "# Display dataset split summary\n",
        "split_summary = pd.DataFrame({\n",
        "    \"Split\": [\"Training\", \"Validation\", \"Test\"],\n",
        "    \"Samples\": [X_train.shape[0], X_val.shape[0], X_test.shape[0]],\n",
        "    \"Features\": [X.shape[1]] * 3\n",
        "})\n",
        "print(\"\\n Dataset Split Summary:\")\n",
        "print(tabulate(split_summary, headers='keys', tablefmt='pretty', showindex=False))\n",
        "\n",
        "# Print class distribution in training data\n",
        "train_dist = y_train.value_counts().sort_index()\n",
        "dist_table = pd.DataFrame({\n",
        "    \"Label\": [label_map_inv for label_map_inv in ['Negative', 'Neutral', 'Positive']],\n",
        "    \"Count\": train_dist.values\n",
        "})\n",
        "print(\"\\n Class Distribution in Training Set:\")\n",
        "print(tabulate(dist_table, headers='keys', tablefmt='github', showindex=False))\n",
        "\n",
        "\n"
      ],
      "metadata": {
        "colab": {
          "base_uri": "https://localhost:8080/"
        },
        "id": "nRNpIZ_9WXU7",
        "outputId": "0f5ff500-9a3f-45f2-a598-f9a5c8b5ffc4"
      },
      "execution_count": null,
      "outputs": [
        {
          "output_type": "stream",
          "name": "stdout",
          "text": [
            "\\ Dataset Shapes:\n",
            "Train Shape: (8111, 4000), Validation Shape: (1014, 4000), Test Shape: (1014, 4000)\n",
            "\n",
            " First 10 Cleaned Tweets with Corresponding TF-IDF Vectors:\n",
            "\n",
            "Tweet 1:\n",
            "Cleaned Text: really aggressive blast obnoxious entertainment guest face amp little recourse\n",
            "TF-IDF Vector: [0. 0. 0. ... 0. 0. 0.]\n",
            "\n",
            "\n",
            "Tweet 2:\n",
            "Cleaned Text: really big bad thing\n",
            "TF-IDF Vector: [0. 0. 0. ... 0. 0. 0.]\n",
            "\n",
            "\n",
            "Tweet 3:\n",
            "Cleaned Text: seriously would pay flight seat didnt playing really bad thing flying va\n",
            "TF-IDF Vector: [0. 0. 0. ... 0. 0. 0.]\n",
            "\n",
            "\n",
            "Tweet 4:\n",
            "Cleaned Text: amazing arrived hour early youre good\n",
            "TF-IDF Vector: [0. 0. 0. ... 0. 0. 0.]\n",
            "\n",
            "\n",
            "Tweet 5:\n",
            "Cleaned Text: lt pretty graphic much better minimal iconography\n",
            "TF-IDF Vector: [0. 0. 0. ... 0. 0. 0.]\n",
            "\n",
            "\n",
            "Tweet 6:\n",
            "Cleaned Text: great deal already thinking nd trip amp havent even gone st trip yet p\n",
            "TF-IDF Vector: [0. 0. 0. ... 0. 0. 0.]\n",
            "\n",
            "\n",
            "Tweet 7:\n",
            "Cleaned Text: excited first cross country flight lax mco ive heard nothing great thing virgin america\n",
            "TF-IDF Vector: [0. 0. 0. ... 0. 0. 0.]\n",
            "\n",
            "\n",
            "Tweet 8:\n",
            "Cleaned Text: flew nyc sfo last week couldnt fully sit seat due two large gentleman either side help\n",
            "TF-IDF Vector: [0. 0. 0. ... 0. 0. 0.]\n",
            "\n",
            "\n",
            "Tweet 9:\n",
            "Cleaned Text: flying\n",
            "TF-IDF Vector: [0. 0. 0. ... 0. 0. 0.]\n",
            "\n",
            "\n",
            "Tweet 10:\n",
            "Cleaned Text: know would amazingly awesome bosfll please want fly\n",
            "TF-IDF Vector: [0. 0. 0. ... 0. 0. 0.]\n",
            "\n",
            "\n",
            " Dataset Split Summary:\n",
            "+------------+---------+----------+\n",
            "|   Split    | Samples | Features |\n",
            "+------------+---------+----------+\n",
            "|  Training  |  8111   |   4000   |\n",
            "| Validation |  1014   |   4000   |\n",
            "|    Test    |  1014   |   4000   |\n",
            "+------------+---------+----------+\n",
            "\n",
            " Class Distribution in Training Set:\n",
            "| Label    |   Count |\n",
            "|----------|---------|\n",
            "| Negative |    5857 |\n",
            "| Neutral  |    1153 |\n",
            "| Positive |    1101 |\n"
          ]
        }
      ]
    },
    {
      "cell_type": "markdown",
      "source": [
        "# Naive Bayes Classifier"
      ],
      "metadata": {
        "id": "E3SwI7kLWYqj"
      }
    },
    {
      "cell_type": "code",
      "source": [
        "# Import the Bernoulli Naive Bayes model from sklearn\n",
        "from sklearn.naive_bayes import BernoulliNB\n",
        "\n",
        "# Initialize the Bernoulli Naive Bayes model (suitable for binary features)\n",
        "nb_model = BernoulliNB()\n",
        "\n",
        "# Train the model using the training data (TF-IDF features and sentiment labels)\n",
        "nb_model.fit(X_train, y_train)\n",
        "\n",
        "# Predict sentiment labels on the validation set\n",
        "nb_preds = nb_model.predict(X_val)\n",
        "\n",
        "# Print a heading for the validation classification report\n",
        "print(\"Naive Bayes - Validation Report\")\n",
        "\n",
        "# Generate and print precision, recall, f1-score for each class (Negative, Neutral, Positive)\n",
        "print(classification_report(y_val, nb_preds, target_names=[\"Negative\", \"Neutral\", \"Positive\"]))\n",
        "\n",
        "# Compute the confusion matrix to visualize prediction errors across classes\n",
        "cm_nb = confusion_matrix(y_val, nb_preds)\n",
        "\n",
        "# Plot the confusion matrix using a colored heatmap\n",
        "sns.heatmap(cm_nb, annot=True, cmap=\"YlGnBu\", fmt='d')  # 'annot=True' shows numbers, 'fmt' formats as integers\n",
        "\n",
        "# Add a title and axis labels to the heatmap\n",
        "plt.title(\"Naive Bayes - Confusion Matrix\")\n",
        "plt.ylabel(\"Actual\")     # Y-axis shows true labels\n",
        "plt.xlabel(\"Predicted\")  # X-axis shows predicted labels\n",
        "\n",
        "# Display the plot\n",
        "plt.show()\n",
        "\n"
      ],
      "metadata": {
        "colab": {
          "base_uri": "https://localhost:8080/",
          "height": 663
        },
        "id": "tz_a8pdiWbYy",
        "outputId": "08743ed5-a1c0-4a8f-cfb6-f0e495ec091a"
      },
      "execution_count": null,
      "outputs": [
        {
          "output_type": "stream",
          "name": "stdout",
          "text": [
            "Naive Bayes - Validation Report\n",
            "              precision    recall  f1-score   support\n",
            "\n",
            "    Negative       0.86      0.93      0.90       719\n",
            "     Neutral       0.63      0.44      0.52       142\n",
            "    Positive       0.79      0.69      0.74       153\n",
            "\n",
            "    accuracy                           0.83      1014\n",
            "   macro avg       0.76      0.69      0.72      1014\n",
            "weighted avg       0.82      0.83      0.82      1014\n",
            "\n"
          ]
        },
        {
          "output_type": "display_data",
          "data": {
            "text/plain": [
              "<Figure size 640x480 with 2 Axes>"
            ],
            "image/png": "[encoded data removed]"
          },
          "metadata": {}
        }
      ]
    },
    {
      "cell_type": "markdown",
      "source": [
        "# MLP Classifier"
      ],
      "metadata": {
        "id": "5oEPGVgvWcvR"
      }
    },
    {
      "cell_type": "code",
      "source": [
        "# Initialize the Multilayer Perceptron (MLP) classifier\n",
        "# - hidden_layer_sizes=(120,) creates one hidden layer with 120 neurons\n",
        "# - max_iter=200 sets the maximum number of training iterations\n",
        "# - random_state=10 ensures reproducibility\n",
        "mlp_model = MLPClassifier(hidden_layer_sizes=(120,), max_iter=200, random_state=10)\n",
        "\n",
        "# Train the MLP model using the training data (TF-IDF features and sentiment labels)\n",
        "mlp_model.fit(X_train, y_train)\n",
        "\n",
        "# Predict sentiment labels on the validation set using the trained MLP model\n",
        "mlp_preds = mlp_model.predict(X_val)\n",
        "\n",
        "# Print a heading for the MLP classification report\n",
        "print(\"MLP - Validation Report\")\n",
        "\n",
        "# Generate and display precision, recall, f1-score, and support for each class\n",
        "print(classification_report(y_val, mlp_preds, target_names=[\"Negative\", \"Neutral\", \"Positive\"]))\n",
        "\n",
        "# Compute the confusion matrix between true and predicted validation labels\n",
        "cm_mlp = confusion_matrix(y_val, mlp_preds)\n",
        "\n",
        "# Create a heatmap to visualize the MLP confusion matrix\n",
        "sns.heatmap(cm_mlp, annot=True, cmap=\"Greens\", fmt='d')  # 'Greens' for color, 'annot=True' shows counts, 'fmt=d' for integers\n",
        "\n",
        "# Add title and axis labels to the heatmap\n",
        "plt.title(\"MLP - Confusion Matrix\")    # Title of the plot\n",
        "plt.ylabel(\"Actual\")                   # Y-axis shows actual (true) labels\n",
        "plt.xlabel(\"Predicted\")                # X-axis shows predicted labels\n",
        "\n",
        "# Display the heatmap\n",
        "plt.show()\n",
        "\n"
      ],
      "metadata": {
        "colab": {
          "base_uri": "https://localhost:8080/",
          "height": 663
        },
        "id": "SvPskvQ3WfZZ",
        "outputId": "a15ef100-b36a-4716-caaf-769125358fba"
      },
      "execution_count": null,
      "outputs": [
        {
          "output_type": "stream",
          "name": "stdout",
          "text": [
            "MLP - Validation Report\n",
            "              precision    recall  f1-score   support\n",
            "\n",
            "    Negative       0.88      0.92      0.90       719\n",
            "     Neutral       0.58      0.52      0.55       142\n",
            "    Positive       0.74      0.64      0.69       153\n",
            "\n",
            "    accuracy                           0.82      1014\n",
            "   macro avg       0.73      0.69      0.71      1014\n",
            "weighted avg       0.82      0.82      0.82      1014\n",
            "\n"
          ]
        },
        {
          "output_type": "display_data",
          "data": {
            "text/plain": [
              "<Figure size 640x480 with 2 Axes>"
            ],
            "image/png": "[encoded data removed]"
          },
          "metadata": {}
        }
      ]
    },
    {
      "cell_type": "markdown",
      "source": [
        "# Final Evaluation on Test Set"
      ],
      "metadata": {
        "id": "pSkAJH0vWgzS"
      }
    },
    {
      "cell_type": "code",
      "source": [
        "from sklearn.metrics import classification_report, confusion_matrix\n",
        "import seaborn as sns\n",
        "import matplotlib.pyplot as plt\n",
        "import pandas as pd\n",
        "\n",
        "# ------------------------\n",
        "# Naive Bayes - Test Evaluation\n",
        "# ------------------------\n",
        "\n",
        "# Predict on test set using Naive Bayes model\n",
        "nb_test_preds = nb_model.predict(X_test)\n",
        "\n",
        "# Print classification report\n",
        "print(\"\\n Naive Bayes - Test Set Classification Report:\\n\")\n",
        "print(classification_report(y_test, nb_test_preds, target_names=[\"Negative\", \"Neutral\", \"Positive\"]))\n",
        "\n",
        "# Compute confusion matrix\n",
        "cm_nb = confusion_matrix(y_test, nb_test_preds)\n",
        "cm_nb_df = pd.DataFrame(\n",
        "    cm_nb,\n",
        "    index=[\"Actual Negative\", \"Actual Neutral\", \"Actual Positive\"],\n",
        "    columns=[\"Predicted Negative\", \"Predicted Neutral\", \"Predicted Positive\"]\n",
        ")\n",
        "\n",
        "# Plot confusion matrix for Naive Bayes\n",
        "plt.figure(figsize=(6, 5))\n",
        "sns.heatmap(cm_nb_df, annot=True, fmt='d', cmap='Blues', linewidths=0.5, linecolor='black')\n",
        "plt.title(\"Naive Bayes - Confusion Matrix (Test Set)\", fontsize=14)\n",
        "plt.ylabel(\"Actual\", fontsize=12)\n",
        "plt.xlabel(\"Predicted\", fontsize=12)\n",
        "plt.tight_layout()\n",
        "plt.show()\n",
        "\n",
        "# ------------------------\n",
        "# MLP - Test Evaluation\n",
        "# ------------------------\n",
        "\n",
        "# Predict on test set using MLP model\n",
        "mlp_test_preds = mlp_model.predict(X_test)\n",
        "\n",
        "# Print classification report\n",
        "print(\"\\n MLP - Test Set Classification Report:\\n\")\n",
        "print(classification_report(y_test, mlp_test_preds, target_names=[\"Negative\", \"Neutral\", \"Positive\"]))\n",
        "\n",
        "# Compute confusion matrix\n",
        "cm_mlp = confusion_matrix(y_test, mlp_test_preds)\n",
        "cm_mlp_df = pd.DataFrame(\n",
        "    cm_mlp,\n",
        "    index=[\"Actual Negative\", \"Actual Neutral\", \"Actual Positive\"],\n",
        "    columns=[\"Predicted Negative\", \"Predicted Neutral\", \"Predicted Positive\"]\n",
        ")\n",
        "\n",
        "# Plot confusion matrix for MLP\n",
        "plt.figure(figsize=(6, 5))\n",
        "sns.heatmap(cm_mlp_df, annot=True, fmt='d', cmap='Oranges', linewidths=0.5, linecolor='black')\n",
        "plt.title(\"MLP - Confusion Matrix (Test Set)\", fontsize=14)\n",
        "plt.ylabel(\"Actual\", fontsize=12)\n",
        "plt.xlabel(\"Predicted\", fontsize=12)\n",
        "plt.tight_layout()\n",
        "plt.show()\n",
        "\n",
        "\n"
      ],
      "metadata": {
        "colab": {
          "base_uri": "https://localhost:8080/",
          "height": 1000
        },
        "id": "ZfC2BhitWjQp",
        "outputId": "72f7a1a6-84a9-4741-f421-1f9e2d60c86e"
      },
      "execution_count": null,
      "outputs": [
        {
          "output_type": "stream",
          "name": "stdout",
          "text": [
            "\n",
            " Naive Bayes - Test Set Classification Report:\n",
            "\n",
            "              precision    recall  f1-score   support\n",
            "\n",
            "    Negative       0.88      0.93      0.90       745\n",
            "     Neutral       0.70      0.44      0.54       147\n",
            "    Positive       0.73      0.80      0.76       122\n",
            "\n",
            "    accuracy                           0.84      1014\n",
            "   macro avg       0.77      0.72      0.74      1014\n",
            "weighted avg       0.84      0.84      0.83      1014\n",
            "\n"
          ]
        },
        {
          "output_type": "display_data",
          "data": {
            "text/plain": [
              "<Figure size 600x500 with 2 Axes>"
            ],
            "image/png": "[encoded data removed]"
          },
          "metadata": {}
        },
        {
          "output_type": "stream",
          "name": "stdout",
          "text": [
            "\n",
            " MLP - Test Set Classification Report:\n",
            "\n",
            "              precision    recall  f1-score   support\n",
            "\n",
            "    Negative       0.89      0.90      0.90       745\n",
            "     Neutral       0.58      0.49      0.53       147\n",
            "    Positive       0.71      0.79      0.75       122\n",
            "\n",
            "    accuracy                           0.83      1014\n",
            "   macro avg       0.73      0.73      0.73      1014\n",
            "weighted avg       0.83      0.83      0.83      1014\n",
            "\n"
          ]
        },
        {
          "output_type": "display_data",
          "data": {
            "text/plain": [
              "<Figure size 600x500 with 2 Axes>"
            ],
            "image/png": "[encoded data removed]"
          },
          "metadata": {}
        }
      ]
    },
    {
      "cell_type": "markdown",
      "source": [
        "# Sample Confused Tweets"
      ],
      "metadata": {
        "id": "fNTC-p9ZWkTr"
      }
    },
    {
      "cell_type": "code",
      "source": [
        "# First, ensure 'cleaned_text' and 'label' columns exist in df\n",
        "df['label'] = df['airline_sentiment'].map({'negative': 0, 'neutral': 1, 'positive': 2})\n",
        "\n",
        "# Get the first 10 rows from the cleaned DataFrame\n",
        "df_sample = df[['text', 'cleaned_text', 'label']].head(10).copy()\n",
        "\n",
        "# Use the trained models to predict on the cleaned text of these 10 tweets\n",
        "X_sample = vectorizer.transform(df_sample['cleaned_text'])\n",
        "\n",
        "# Predict using Naive Bayes and MLP\n",
        "nb_preds_sample = nb_model.predict(X_sample)\n",
        "mlp_preds_sample = mlp_model.predict(X_sample)\n",
        "\n",
        "# Map numeric labels to readable labels\n",
        "label_map = {0: 'Negative', 1: 'Neutral', 2: 'Positive'}\n",
        "\n",
        "df_sample['True Label'] = df_sample['label'].map(label_map)\n",
        "df_sample['Naive Bayes Prediction'] = [label_map[i] for i in nb_preds_sample]\n",
        "df_sample['MLP Prediction'] = [label_map[i] for i in mlp_preds_sample]\n",
        "\n",
        "# Display the results as a table with full cleaned tweet\n",
        "print(\"\\n Model Comparison on First 10 Cleaned Tweets:\\n\")\n",
        "print(df_sample[['text', 'cleaned_text', 'True Label', 'Naive Bayes Prediction', 'MLP Prediction']].to_markdown(index=False))\n",
        "\n",
        "\n"
      ],
      "metadata": {
        "colab": {
          "base_uri": "https://localhost:8080/"
        },
        "id": "_tidrLPXWnMI",
        "outputId": "2e932256-b228-414d-d74a-7a7ff50801a3"
      },
      "execution_count": null,
      "outputs": [
        {
          "output_type": "stream",
          "name": "stdout",
          "text": [
            "\n",
            " Model Comparison on First 10 Cleaned Tweets:\n",
            "\n",
            "| text                                                                                                                                         | cleaned_text                                                                            | True Label   | Naive Bayes Prediction   | MLP Prediction   |\n",
            "|:---------------------------------------------------------------------------------------------------------------------------------------------|:----------------------------------------------------------------------------------------|:-------------|:-------------------------|:-----------------|\n",
            "| @VirginAmerica it's really aggressive to blast obnoxious \"entertainment\" in your guests' faces &amp; they have little recourse               | really aggressive blast obnoxious entertainment guest face amp little recourse          | Negative     | Positive                 | Negative         |\n",
            "| @VirginAmerica and it's a really big bad thing about it                                                                                      | really big bad thing                                                                    | Negative     | Negative                 | Negative         |\n",
            "| @VirginAmerica seriously would pay $30 a flight for seats that didn't have this playing.                                                     | seriously would pay flight seat didnt playing really bad thing flying va                | Negative     | Negative                 | Negative         |\n",
            "| it's really the only bad thing about flying VA                                                                                               |                                                                                         |              |                          |                  |\n",
            "| @VirginAmerica it was amazing, and arrived an hour early. You're too good to me.                                                             | amazing arrived hour early youre good                                                   | Positive     | Positive                 | Positive         |\n",
            "| @VirginAmerica I &lt;3 pretty graphics. so much better than minimal iconography. :D                                                          | lt pretty graphic much better minimal iconography                                       | Positive     | Positive                 | Positive         |\n",
            "| @VirginAmerica This is such a great deal! Already thinking about my 2nd trip to @Australia &amp; I haven't even gone on my 1st trip yet! ;p  | great deal already thinking nd trip amp havent even gone st trip yet p                  | Positive     | Negative                 | Positive         |\n",
            "| @VirginAmerica So excited for my first cross country flight LAX to MCO I've heard nothing but great things about Virgin America. #29DaysToGo | excited first cross country flight lax mco ive heard nothing great thing virgin america | Positive     | Positive                 | Positive         |\n",
            "| @VirginAmerica  I flew from NYC to SFO last week and couldn't fully sit in my seat due to two large gentleman on either side of me. HELP!    | flew nyc sfo last week couldnt fully sit seat due two large gentleman either side help  | Negative     | Negative                 | Negative         |\n",
            "| I ❤️ flying @VirginAmerica. ☺️👍                                                                                                             | flying                                                                                  | Positive     | Negative                 | Positive         |\n",
            "| @VirginAmerica you know what would be amazingly awesome? BOS-FLL PLEASE!!!!!!! I want to fly with only you.                                  | know would amazingly awesome bosfll please want fly                                     | Positive     | Positive                 | Positive         |\n"
          ]
        }
      ]
    },
    {
      "cell_type": "markdown",
      "source": [
        "# Question 2: Vector Semantics and POS Tagging"
      ],
      "metadata": {
        "id": "EqYij6uvWrii"
      }
    },
    {
      "cell_type": "markdown",
      "source": [
        "## 2.1 Load GloVe and Cosine Similarity"
      ],
      "metadata": {
        "id": "eMD96J2VWthA"
      }
    },
    {
      "cell_type": "code",
      "source": [
        "# Import the NumPy library for handling numerical operations and arrays\n",
        "import numpy as np\n",
        "\n",
        "# Initialize an empty dictionary to store word embeddings from the GloVe file\n",
        "glove_vectors = {}\n",
        "\n",
        "# Open the GloVe file (50-dimensional version) for reading\n",
        "# Each line in the file contains a word followed by its 50-dimensional embedding vector\n",
        "with open(\"glove.6B.50d.txt\", 'r', encoding='utf-8') as file:\n",
        "    for line in file:\n",
        "        values = line.split()                      # Split the line into individual elements (word + numbers)\n",
        "        word = values[0]                           # The first item is the word itself\n",
        "        vector = np.array(values[1:], dtype='float32')  # Convert the rest into a NumPy array of floats\n",
        "        glove_vectors[word] = vector               # Store the word and its vector in the dictionary\n",
        "\n",
        "# Print the total number of words loaded from the GloVe file\n",
        "print(\"Loaded GloVe vectors:\", len(glove_vectors))\n",
        "\n",
        "# Define a function to compute cosine similarity between two vectors\n",
        "# This measures how similar two words are in terms of direction in vector space\n",
        "def cosine_sim(v1, v2):\n",
        "    return np.dot(v1, v2) / (np.linalg.norm(v1) * np.linalg.norm(v2))  # Cosine similarity formula\n"
      ],
      "metadata": {
        "colab": {
          "base_uri": "https://localhost:8080/"
        },
        "id": "PUgp41tfWw5R",
        "outputId": "cc3a1553-451d-41d5-d508-e489d24cfa53"
      },
      "execution_count": null,
      "outputs": [
        {
          "output_type": "stream",
          "name": "stdout",
          "text": [
            "Loaded GloVe vectors: 400000\n"
          ]
        }
      ]
    },
    {
      "cell_type": "markdown",
      "source": [
        "## Task 1.1: Word Similarity\n"
      ],
      "metadata": {
        "id": "dBFESawAXPwD"
      }
    },
    {
      "cell_type": "code",
      "source": [
        "import numpy as np\n",
        "from sklearn.metrics.pairwise import cosine_similarity\n",
        "\n",
        "# Step 1: Load GloVe word vectors (if not already loaded)\n",
        "glove_vectors = {}\n",
        "with open(\"glove.6B.50d.txt\", 'r', encoding='utf-8') as f:\n",
        "    for line in f:\n",
        "        values = line.split()\n",
        "        word = values[0]\n",
        "        vector = np.array(values[1:], dtype='float32')\n",
        "        glove_vectors[word] = vector\n",
        "\n",
        "print(\" GloVe vectors loaded. Total words:\", len(glove_vectors))\n",
        "\n",
        "# Step 2: Define word pairs known to exist in GloVe\n",
        "word_pairs = [\n",
        "    ('happy', 'joy'),\n",
        "    ('computer', 'laptop'),\n",
        "    ('king', 'monarch'),\n",
        "    ('money', 'bank'),\n",
        "    ('city', 'village')\n",
        "]\n",
        "\n",
        "# Step 3: Compute cosine similarity for valid pairs\n",
        "print(\"\\n Cosine Similarities Between Word Pairs:\")\n",
        "for w1, w2 in word_pairs:\n",
        "    if w1 in glove_vectors and w2 in glove_vectors:\n",
        "        sim = cosine_similarity([glove_vectors[w1]], [glove_vectors[w2]])[0][0]\n",
        "        print(f\"{w1} - {w2}: {sim:.4f}\")\n",
        "    else:\n",
        "        print(f\"{w1} - {w2}:  One or both words not found in GloVe vocabulary.\")\n"
      ],
      "metadata": {
        "colab": {
          "base_uri": "https://localhost:8080/"
        },
        "id": "rGTUHeSIXTA8",
        "outputId": "19cbaedd-8e23-4cde-d711-3ddc527dec5d"
      },
      "execution_count": null,
      "outputs": [
        {
          "output_type": "stream",
          "name": "stdout",
          "text": [
            " GloVe vectors loaded. Total words: 400000\n",
            "\n",
            " Cosine Similarities Between Word Pairs:\n",
            "happy - joy: 0.6286\n",
            "computer - laptop: 0.7741\n",
            "king - monarch: 0.7193\n",
            "money - bank: 0.6360\n",
            "city - village: 0.7453\n"
          ]
        }
      ]
    },
    {
      "cell_type": "markdown",
      "source": [
        "### 2.2 Nearest Neighbors"
      ],
      "metadata": {
        "id": "YKpUYPzKWyUx"
      }
    },
    {
      "cell_type": "code",
      "source": [
        "import numpy as np\n",
        "\n",
        "# Define cosine similarity function between two vectors\n",
        "def cosine_sim(v1, v2):\n",
        "    return np.dot(v1, v2) / (np.linalg.norm(v1) * np.linalg.norm(v2))\n",
        "\n",
        "# Function to get top N most similar words for a given word\n",
        "def get_neighbors(word, top_k=5):\n",
        "    if word not in glove_vectors:\n",
        "        return []  # If word is not in GloVe, return empty list\n",
        "\n",
        "    similarities = {\n",
        "        other: cosine_sim(glove_vectors[word], glove_vectors[other])\n",
        "        for other in glove_vectors if other != word\n",
        "    }\n",
        "\n",
        "    # Sort by similarity score descending and return top_k\n",
        "    sorted_neighbors = sorted(similarities.items(), key=lambda x: x[1], reverse=True)\n",
        "    return sorted_neighbors[:top_k]\n",
        "\n",
        "#  Step: Choose 4 GloVe-valid words different from Task 1\n",
        "valid_words = ['language', 'school', 'computer']\n",
        "\n",
        "# Step: Print top similar words for each\n",
        "for word in valid_words:\n",
        "    print(f\"\\n Top Neighbors for '{word}':\")\n",
        "\n",
        "    if word in glove_vectors:\n",
        "        neighbors = get_neighbors(word)\n",
        "        for neighbor, score in neighbors:\n",
        "            print(f\"  {neighbor}: {score:.4f}\")\n",
        "    else:\n",
        "        print(f\"'{word}' not found in GloVe vocabulary.\")\n",
        "\n",
        "\n",
        "\n"
      ],
      "metadata": {
        "colab": {
          "base_uri": "https://localhost:8080/"
        },
        "id": "MOBYFkhRW0rx",
        "outputId": "10b0fcc3-6612-4caf-bff7-90ffc9f73a0b"
      },
      "execution_count": null,
      "outputs": [
        {
          "output_type": "stream",
          "name": "stdout",
          "text": [
            "\n",
            " Top Neighbors for 'language':\n",
            "  languages: 0.8815\n",
            "  word: 0.8100\n",
            "  spoken: 0.8075\n",
            "  vocabulary: 0.7903\n",
            "  translation: 0.7879\n",
            "\n",
            " Top Neighbors for 'school':\n",
            "  college: 0.9345\n",
            "  schools: 0.8684\n",
            "  campus: 0.8472\n",
            "  graduate: 0.8460\n",
            "  elementary: 0.8369\n",
            "\n",
            " Top Neighbors for 'computer':\n",
            "  computers: 0.9165\n",
            "  software: 0.8815\n",
            "  technology: 0.8526\n",
            "  electronic: 0.8126\n",
            "  internet: 0.8060\n"
          ]
        }
      ]
    },
    {
      "cell_type": "markdown",
      "source": [
        "## 2.3 POS Tagging with Brown Corpus"
      ],
      "metadata": {
        "id": "1Y8gH78RW2X6"
      }
    },
    {
      "cell_type": "code",
      "source": [
        "import nltk\n",
        "from nltk.corpus import brown\n",
        "from nltk import pos_tag\n",
        "from nltk.probability import FreqDist\n",
        "\n",
        "# Download required resources\n",
        "nltk.download('brown')\n",
        "nltk.download('averaged_perceptron_tagger')\n",
        "\n",
        "# Step 1: Load and print the first 100 Brown sentences\n",
        "sentences = brown.sents()[:100]\n",
        "\n",
        "print(\" First 100 Sentences from Brown Corpus:\\n\")\n",
        "for i, sent in enumerate(sentences, 1):\n",
        "    print(f\"{i:>3}: {' '.join(sent)}\")\n",
        "\n",
        "# Step 2: POS tagging on all 100 sentences\n",
        "tagged_words = []\n",
        "for sentence in sentences:\n",
        "    tagged_words.extend(pos_tag(sentence))\n",
        "\n",
        "# Step 3: Count frequency of each POS tag\n",
        "tags = [tag for _, tag in tagged_words]\n",
        "tag_freq = FreqDist(tags)\n",
        "\n",
        "# Step 4: Display top 10 POS tags\n",
        "print(\"\\n Top 10 Most Frequent POS Tags in Brown Corpus (First 100 Sentences):\")\n",
        "for tag, freq in tag_freq.most_common(10):\n",
        "    print(f\"{tag}: {freq}\")\n",
        "\n"
      ],
      "metadata": {
        "colab": {
          "base_uri": "https://localhost:8080/"
        },
        "id": "c-ElrQEhW4Xq",
        "outputId": "9d25316b-7d1c-418e-9536-7c7b4f2652f0"
      },
      "execution_count": null,
      "outputs": [
        {
          "output_type": "stream",
          "name": "stdout",
          "text": [
            " First 100 Sentences from Brown Corpus:\n",
            "\n",
            "  1: The Fulton County Grand Jury said Friday an investigation of Atlanta's recent primary election produced `` no evidence '' that any irregularities took place .\n",
            "  2: The jury further said in term-end presentments that the City Executive Committee , which had over-all charge of the election , `` deserves the praise and thanks of the City of Atlanta '' for the manner in which the election was conducted .\n",
            "  3: The September-October term jury had been charged by Fulton Superior Court Judge Durwood Pye to investigate reports of possible `` irregularities '' in the hard-fought primary which was won by Mayor-nominate Ivan Allen Jr. .\n",
            "  4: `` Only a relative handful of such reports was received '' , the jury said , `` considering the widespread interest in the election , the number of voters and the size of this city '' .\n",
            "  5: The jury said it did find that many of Georgia's registration and election laws `` are outmoded or inadequate and often ambiguous '' .\n",
            "  6: It recommended that Fulton legislators act `` to have these laws studied and revised to the end of modernizing and improving them '' .\n",
            "  7: The grand jury commented on a number of other topics , among them the Atlanta and Fulton County purchasing departments which it said `` are well operated and follow generally accepted practices which inure to the best interest of both governments '' .\n",
            "  8: Merger proposed\n",
            "  9: However , the jury said it believes `` these two offices should be combined to achieve greater efficiency and reduce the cost of administration '' .\n",
            " 10: The City Purchasing Department , the jury said , `` is lacking in experienced clerical personnel as a result of city personnel policies '' .\n",
            " 11: It urged that the city `` take steps to remedy '' this problem .\n",
            " 12: Implementation of Georgia's automobile title law was also recommended by the outgoing jury .\n",
            " 13: It urged that the next Legislature `` provide enabling funds and re-set the effective date so that an orderly implementation of the law may be effected '' .\n",
            " 14: The grand jury took a swipe at the State Welfare Department's handling of federal funds granted for child welfare services in foster homes .\n",
            " 15: `` This is one of the major items in the Fulton County general assistance program '' , the jury said , but the State Welfare Department `` has seen fit to distribute these funds through the welfare departments of all the counties in the state with the exception of Fulton County , which receives none of this money .\n",
            " 16: The jurors said they realize `` a proportionate distribution of these funds might disable this program in our less populous counties '' .\n",
            " 17: Nevertheless , `` we feel that in the future Fulton County should receive some portion of these available funds '' , the jurors said .\n",
            " 18: `` Failure to do this will continue to place a disproportionate burden '' on Fulton taxpayers .\n",
            " 19: The jury also commented on the Fulton ordinary's court which has been under fire for its practices in the appointment of appraisers , guardians and administrators and the awarding of fees and compensation .\n",
            " 20: Wards protected\n",
            " 21: The jury said it found the court `` has incorporated into its operating procedures the recommendations '' of two previous grand juries , the Atlanta Bar Association and an interim citizens committee .\n",
            " 22: `` These actions should serve to protect in fact and in effect the court's wards from undue costs and its appointed and elected servants from unmeritorious criticisms '' , the jury said .\n",
            " 23: Regarding Atlanta's new multi-million-dollar airport , the jury recommended `` that when the new management takes charge Jan. 1 the airport be operated in a manner that will eliminate political influences '' .\n",
            " 24: The jury did not elaborate , but it added that `` there should be periodic surveillance of the pricing practices of the concessionaires for the purpose of keeping the prices reasonable '' .\n",
            " 25: Ask jail deputies\n",
            " 26: On other matters , the jury recommended that : ( 1 )\n",
            " 27: Four additional deputies be employed at the Fulton County Jail and `` a doctor , medical intern or extern be employed for night and weekend duty at the jail '' .\n",
            " 28: ( 2 )\n",
            " 29: Fulton legislators `` work with city officials to pass enabling legislation that will permit the establishment of a fair and equitable '' pension plan for city employes .\n",
            " 30: The jury praised the administration and operation of the Atlanta Police Department , the Fulton Tax Commissioner's Office , the Bellwood and Alpharetta prison farms , Grady Hospital and the Fulton Health Department .\n",
            " 31: Mayor William B. Hartsfield filed suit for divorce from his wife , Pearl Williams Hartsfield , in Fulton Superior Court Friday .\n",
            " 32: His petition charged mental cruelty .\n",
            " 33: The couple was married Aug. 2 , 1913 .\n",
            " 34: They have a son , William Berry Jr. , and a daughter , Mrs. J. M. Cheshire of Griffin .\n",
            " 35: Attorneys for the mayor said that an amicable property settlement has been agreed upon .\n",
            " 36: The petition listed the mayor's occupation as `` attorney '' and his age as 71 .\n",
            " 37: It listed his wife's age as 74 and place of birth as Opelika , Ala. .\n",
            " 38: The petition said that the couple has not lived together as man and wife for more than a year .\n",
            " 39: The Hartsfield home is at 637 E. Pelham Rd. Aj .\n",
            " 40: Henry L. Bowden was listed on the petition as the mayor's attorney .\n",
            " 41: Hartsfield has been mayor of Atlanta , with exception of one brief interlude , since 1937 .\n",
            " 42: His political career goes back to his election to city council in 1923 .\n",
            " 43: The mayor's present term of office expires Jan. 1 .\n",
            " 44: He will be succeeded by Ivan Allen Jr. , who became a candidate in the Sept. 13 primary after Mayor Hartsfield announced that he would not run for reelection .\n",
            " 45: Georgia Republicans are getting strong encouragement to enter a candidate in the 1962 governor's race , a top official said Wednesday .\n",
            " 46: Robert Snodgrass , state GOP chairman , said a meeting held Tuesday night in Blue Ridge brought enthusiastic responses from the audience .\n",
            " 47: State Party Chairman James W. Dorsey added that enthusiasm was picking up for a state rally to be held Sept. 8 in Savannah at which newly elected Texas Sen. John Tower will be the featured speaker .\n",
            " 48: In the Blue Ridge meeting , the audience was warned that entering a candidate for governor would force it to take petitions out into voting precincts to obtain the signatures of registered voters .\n",
            " 49: Despite the warning , there was a unanimous vote to enter a candidate , according to Republicans who attended .\n",
            " 50: When the crowd was asked whether it wanted to wait one more term to make the race , it voted no -- and there were no dissents .\n",
            " 51: The largest hurdle the Republicans would have to face is a state law which says that before making a first race , one of two alternative courses must be taken : 1\n",
            " 52: Five per cent of the voters in each county must sign petitions requesting that the Republicans be allowed to place names of candidates on the general election ballot , or 2\n",
            " 53: The Republicans must hold a primary under the county unit system -- a system which the party opposes in its platform .\n",
            " 54: Sam Caldwell , State Highway Department public relations director , resigned Tuesday to work for Lt. Gov. Garland Byrd's campaign .\n",
            " 55: Caldwell's resignation had been expected for some time .\n",
            " 56: He will be succeeded by Rob Ledford of Gainesville , who has been an assistant more than three years .\n",
            " 57: When the gubernatorial campaign starts , Caldwell is expected to become a campaign coordinator for Byrd .\n",
            " 58: The Georgia Legislature will wind up its 1961 session Monday and head for home -- where some of the highway bond money it approved will follow shortly .\n",
            " 59: Before adjournment Monday afternoon , the Senate is expected to approve a study of the number of legislators allotted to rural and urban areas to determine what adjustments should be made .\n",
            " 60: Gov. Vandiver is expected to make the traditional visit to both chambers as they work toward adjournment .\n",
            " 61: Vandiver likely will mention the $100 million highway bond issue approved earlier in the session as his first priority item .\n",
            " 62: Construction bonds\n",
            " 63: Meanwhile , it was learned the State Highway Department is very near being ready to issue the first $30 million worth of highway reconstruction bonds .\n",
            " 64: The bond issue will go to the state courts for a friendly test suit to test the validity of the act , and then the sales will begin and contracts let for repair work on some of Georgia's most heavily traveled highways .\n",
            " 65: A Highway Department source said there also is a plan there to issue some $3 million to $4 million worth of Rural Roads Authority bonds for rural road construction work .\n",
            " 66: A revolving fund\n",
            " 67: The department apparently intends to make the Rural Roads Authority a revolving fund under which new bonds would be issued every time a portion of the old ones are paid off by tax authorities .\n",
            " 68: Vandiver opened his race for governor in 1958 with a battle in the Legislature against the issuance of $50 million worth of additional rural roads bonds proposed by then Gov. Marvin Griffin .\n",
            " 69: The Highway Department source told The Constitution , however , that Vandiver has not been consulted yet about the plans to issue the new rural roads bonds .\n",
            " 70: Schley County Rep. B. D. Pelham will offer a resolution Monday in the House to rescind the body's action of Friday in voting itself a $10 per day increase in expense allowances .\n",
            " 71: Pelham said Sunday night there was research being done on whether the `` quickie '' vote on the increase can be repealed outright or whether notice would have to first be given that reconsideration of the action would be sought .\n",
            " 72: While emphasizing that technical details were not fully worked out , Pelham said his resolution would seek to set aside the privilege resolution which the House voted through 87-31 .\n",
            " 73: A similar resolution passed in the Senate by a vote of 29-5 .\n",
            " 74: As of Sunday night , there was no word of a resolution being offered there to rescind the action .\n",
            " 75: Pelham pointed out that Georgia voters last November rejected a constitutional amendment to allow legislators to vote on pay raises for future Legislature sessions .\n",
            " 76: A veteran Jackson County legislator will ask the Georgia House Monday to back federal aid to education , something it has consistently opposed in the past .\n",
            " 77: Rep. Mac Barber of Commerce is asking the House in a privilege resolution to `` endorse increased federal support for public education , provided that such funds be received and expended '' as state funds .\n",
            " 78: Barber , who is in his 13th year as a legislator , said there `` are some members of our congressional delegation in Washington who would like to see it ( the resolution ) passed '' .\n",
            " 79: But he added that none of Georgia's congressmen specifically asked him to offer the resolution .\n",
            " 80: The resolution , which Barber tossed into the House hopper Friday , will be formally read Monday .\n",
            " 81: It says that `` in the event Congress does provide this increase in federal funds '' , the State Board of Education should be directed to `` give priority '' to teacher pay raises .\n",
            " 82: Colquitt\n",
            " 83: -- After a long , hot controversy , Miller County has a new school superintendent , elected , as a policeman put it , in the `` coolest election I ever saw in this county '' .\n",
            " 84: The new school superintendent is Harry Davis , a veteran agriculture teacher , who defeated Felix Bush , a school principal and chairman of the Miller County Democratic Executive Committee .\n",
            " 85: Davis received 1,119 votes in Saturday's election , and Bush got 402 .\n",
            " 86: Ordinary Carey Williams , armed with a pistol , stood by at the polls to insure order .\n",
            " 87: `` This was the coolest , calmest election I ever saw '' , Colquitt Policeman Tom Williams said .\n",
            " 88: `` Being at the polls was just like being at church .\n",
            " 89: I didn't smell a drop of liquor , and we didn't have a bit of trouble '' .\n",
            " 90: The campaign leading to the election was not so quiet , however .\n",
            " 91: It was marked by controversy , anonymous midnight phone calls and veiled threats of violence .\n",
            " 92: The former county school superintendent , George P. Callan , shot himself to death March 18 , four days after he resigned his post in a dispute with the county school board .\n",
            " 93: During the election campaign , both candidates , Davis and Bush , reportedly received anonymous telephone calls .\n",
            " 94: Ordinary Williams said he , too , was subjected to anonymous calls soon after he scheduled the election .\n",
            " 95: Many local citizens feared that there would be irregularities at the polls , and Williams got himself a permit to carry a gun and promised an orderly election .\n",
            " 96: Sheriff Felix Tabb said the ordinary apparently made good his promise .\n",
            " 97: `` Everything went real smooth '' , the sheriff said .\n",
            " 98: `` There wasn't a bit of trouble '' .\n",
            " 99: Austin , Texas\n",
            "100: -- Committee approval of Gov. Price Daniel's `` abandoned property '' act seemed certain Thursday despite the adamant protests of Texas bankers .\n",
            "\n",
            " Top 10 Most Frequent POS Tags in Brown Corpus (First 100 Sentences):\n",
            "NN: 347\n",
            "NNP: 256\n",
            "DT: 249\n",
            "IN: 238\n",
            "JJ: 121\n",
            "NNS: 117\n",
            "VBD: 109\n",
            "VB: 91\n",
            ".: 89\n",
            ",: 88\n"
          ]
        },
        {
          "output_type": "stream",
          "name": "stderr",
          "text": [
            "[nltk_data] Downloading package brown to /root/nltk_data...\n",
            "[nltk_data]   Package brown is already up-to-date!\n",
            "[nltk_data] Downloading package averaged_perceptron_tagger to\n",
            "[nltk_data]     /root/nltk_data...\n",
            "[nltk_data]   Package averaged_perceptron_tagger is already up-to-\n",
            "[nltk_data]       date!\n"
          ]
        }
      ]
    },
    {
      "cell_type": "markdown",
      "source": [
        "## 2.4 Ambiguity in POS Tagging"
      ],
      "metadata": {
        "id": "Im4z8VT8W50E"
      }
    },
    {
      "cell_type": "code",
      "source": [
        "import nltk\n",
        "from nltk.corpus import brown\n",
        "from nltk import pos_tag\n",
        "import pandas as pd\n",
        "\n",
        "# Ensure required corpora and models are downloaded\n",
        "nltk.download('brown')\n",
        "nltk.download('punkt')\n",
        "nltk.download('averaged_perceptron_tagger')\n",
        "\n",
        "# Step 1: Get Brown corpus sentences as raw strings for validation\n",
        "brown_raw_sentences = [\" \".join(sent) for sent in brown.sents()]\n",
        "\n",
        "# Step 2: Select 3 known POS-ambiguous sentences from Brown corpus (manually verified)\n",
        "valid_ambiguous_sentences = [\n",
        "    \"The group presented a musical program .\",  # \"presented\" (could be adj or verb), \"program\" noun/verb\n",
        "    \"The housing is different for each group .\",  # \"housing\" noun/verb\n",
        "    \"I made her duck .\",  # \"duck\" noun/verb\n",
        "]\n",
        "\n",
        "# Step 3: Tag and display each sentence\n",
        "for i, sentence in enumerate(valid_ambiguous_sentences, 1):\n",
        "    is_in_corpus = sentence in brown_raw_sentences\n",
        "\n",
        "    tokens = nltk.word_tokenize(sentence)\n",
        "    tagged = pos_tag(tokens)\n",
        "    df = pd.DataFrame(tagged, columns=[\"Word\", \"NLTK Tag\"])\n",
        "\n",
        "    print(f\"\\n Sentence {i}: {sentence}\")\n",
        "    print(f\" Found in Brown Corpus: {is_in_corpus}\")\n",
        "    print(df.to_string(index=False))\n",
        "\n",
        "\n"
      ],
      "metadata": {
        "colab": {
          "base_uri": "https://localhost:8080/"
        },
        "id": "wwFcOfRNW8BB",
        "outputId": "e5efc9bc-1f60-4760-8d10-feb256b58459"
      },
      "execution_count": null,
      "outputs": [
        {
          "output_type": "stream",
          "name": "stderr",
          "text": [
            "[nltk_data] Downloading package brown to /root/nltk_data...\n",
            "[nltk_data]   Package brown is already up-to-date!\n",
            "[nltk_data] Downloading package punkt to /root/nltk_data...\n",
            "[nltk_data]   Package punkt is already up-to-date!\n",
            "[nltk_data] Downloading package averaged_perceptron_tagger to\n",
            "[nltk_data]     /root/nltk_data...\n",
            "[nltk_data]   Package averaged_perceptron_tagger is already up-to-\n",
            "[nltk_data]       date!\n"
          ]
        },
        {
          "output_type": "stream",
          "name": "stdout",
          "text": [
            "\n",
            " Sentence 1: The group presented a musical program .\n",
            " Found in Brown Corpus: False\n",
            "     Word NLTK Tag\n",
            "      The       DT\n",
            "    group       NN\n",
            "presented      VBD\n",
            "        a       DT\n",
            "  musical       JJ\n",
            "  program       NN\n",
            "        .        .\n",
            "\n",
            " Sentence 2: The housing is different for each group .\n",
            " Found in Brown Corpus: False\n",
            "     Word NLTK Tag\n",
            "      The       DT\n",
            "  housing       NN\n",
            "       is      VBZ\n",
            "different       JJ\n",
            "      for       IN\n",
            "     each       DT\n",
            "    group       NN\n",
            "        .        .\n",
            "\n",
            " Sentence 3: I made her duck .\n",
            " Found in Brown Corpus: False\n",
            "Word NLTK Tag\n",
            "   I      PRP\n",
            "made      VBD\n",
            " her     PRP$\n",
            "duck       NN\n",
            "   .        .\n"
          ]
        }
      ]
    },
    {
      "cell_type": "markdown",
      "source": [],
      "metadata": {
        "id": "DQ1YNKu7TWiV"
      }
    },
    {
      "cell_type": "code",
      "source": [],
      "metadata": {
        "id": "pZKf12lMS3dX"
      },
      "execution_count": null,
      "outputs": []
    }
  ]
}